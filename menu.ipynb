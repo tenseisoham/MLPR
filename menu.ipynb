{
 "cells": [
  {
   "cell_type": "code",
   "execution_count": 25,
   "metadata": {},
   "outputs": [],
   "source": [
    "import pandas as pd \n"
   ]
  },
  {
   "cell_type": "code",
   "execution_count": 33,
   "metadata": {},
   "outputs": [],
   "source": [
    "df =pd.read_csv('mess.csv')\n",
    "df = df.drop(columns = ['Evening Snacks'])\n"
   ]
  },
  {
   "cell_type": "code",
   "execution_count": null,
   "metadata": {},
   "outputs": [],
   "source": [
    "df['breakfast_merge'] = df[['Assorted Flakes', 'Seasonal Fruits', 'Egg', 'Main 1', 'Main 2']].astype(str).apply(', '.join, axis=1)\n",
    "df['lunch_merge'] = df[['Beverage/Soup', 'Veg', 'Gravy Veg/Dal', 'Paneer', 'Non Veg', 'Dessert']].astype(str).apply(', '.join, axis=1)\n",
    "df['snacks_merge'] = df[['Main', 'Accompaniment.2', 'Beverage1 .1', 'Beverage2.1']].astype(str).apply(', '.join, axis=1)\n",
    "df['dinner_merge'] = df[['Beverage/Soup.1', 'Veg.1', 'Non Veg.1', 'Gravy Veg/Dal.1', 'Dessert.1']].astype(str).apply(', '.join, axis=1)\n",
    "\n",
    "\n",
    "new_df = df[['Date', 'breakfast_merge', 'lunch_merge', 'snacks_merge', 'dinner_merge']]\n",
    "df_cleaned = new_df.applymap(lambda x: x.replace('nan', ''))\n",
    "df_cleaned.to_csv('merged_menu.csv')\n",
    "\n",
    "df_cleaned"
   ]
  }
 ],
 "metadata": {
  "kernelspec": {
   "display_name": "Python 3",
   "language": "python",
   "name": "python3"
  },
  "language_info": {
   "codemirror_mode": {
    "name": "ipython",
    "version": 3
   },
   "file_extension": ".py",
   "mimetype": "text/x-python",
   "name": "python",
   "nbconvert_exporter": "python",
   "pygments_lexer": "ipython3",
   "version": "3.9.7"
  }
 },
 "nbformat": 4,
 "nbformat_minor": 2
}
