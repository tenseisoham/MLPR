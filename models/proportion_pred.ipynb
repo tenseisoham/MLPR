{
 "cells": [
  {
   "cell_type": "code",
   "execution_count": null,
   "metadata": {},
   "outputs": [],
   "source": [
    "import pandas as pd\n",
    "import numpy as np\n",
    "import matplotlib.pyplot as plt\n",
    "import seaborn as sns"
   ]
  },
  {
   "cell_type": "code",
   "execution_count": null,
   "metadata": {},
   "outputs": [],
   "source": [
    "# loading the dataset\n",
    "df = pd.read_excel('../data/extra_dtaset.xlsx')\n",
    "df.head()"
   ]
  },
  {
   "cell_type": "code",
   "execution_count": null,
   "metadata": {},
   "outputs": [],
   "source": [
    "# splitting the dataset into train and test\n",
    "from sklearn.model_selection import train_test_split\n",
    "train, test = train_test_split(df, test_size=0.2, random_state=42)"
   ]
  },
  {
   "cell_type": "code",
   "execution_count": null,
   "metadata": {},
   "outputs": [],
   "source": [
    "from sklearn.linear_model import LinearRegression\n",
    "from sklearn.metrics import mean_squared_error, r2_score\n",
    "\n",
    "# instantiating the model\n",
    "linreg = LinearRegression()\n",
    "\n",
    "# training the model\n",
    "linreg.fit(train[['bogo ', 'chicken ', 'guest', 'breakfast_prop']], train['lunch_prop'])\n",
    "\n",
    "# predicting the lunch proportion\n",
    "train['lunch_prop_pred'] = linreg.predict(train[['bogo ', 'chicken ', 'guest', 'breakfast_prop']])\n",
    "test['lunch_prop_pred'] = linreg.predict(test[['bogo ', 'chicken ', 'guest', 'breakfast_prop']])\n",
    "print(np.sqrt(mean_squared_error(train['lunch_prop'], train['lunch_prop_pred'])), np.sqrt(mean_squared_error(test['lunch_prop'], test['lunch_prop_pred'])))\n",
    "print(r2_score(train['lunch_prop'], train['lunch_prop_pred']), r2_score(test['lunch_prop'], test['lunch_prop_pred']))"
   ]
  },
  {
   "cell_type": "code",
   "execution_count": null,
   "metadata": {},
   "outputs": [],
   "source": [
    "linreg = LinearRegression()\n",
    "\n",
    "# training the model\n",
    "linreg.fit(train[['bogo ', 'chicken ', 'guest', 'lunch_prop']], train['dinner_prop'])\n",
    "\n",
    "# predicting the dinner proportion\n",
    "train['dinner_prop_pred'] = linreg.predict(train[['bogo ', 'chicken ', 'guest', 'lunch_prop']])\n",
    "test['dinner_prop_pred'] = linreg.predict(test[['bogo ', 'chicken ', 'guest', 'lunch_prop']])\n",
    "print(np.sqrt(mean_squared_error(train['dinner_prop'], train['dinner_prop_pred'])), np.sqrt(mean_squared_error(test['dinner_prop'], test['dinner_prop_pred'])))\n",
    "print(r2_score(train['dinner_prop'], train['dinner_prop_pred']), r2_score(test['dinner_prop'], test['dinner_prop_pred']))"
   ]
  },
  {
   "cell_type": "code",
   "execution_count": null,
   "metadata": {},
   "outputs": [],
   "source": [
    "from sklearn.tree import DecisionTreeRegressor\n",
    "from sklearn.ensemble import RandomForestRegressor\n",
    "from sklearn.neighbors import KNeighborsRegressor\n",
    "from sklearn.svm import SVR\n",
    "from sklearn.linear_model import Ridge, Lasso, ElasticNet\n",
    "\n",
    "# instantiating the models\n",
    "dt = DecisionTreeRegressor()\n",
    "rf = RandomForestRegressor()\n",
    "knn = KNeighborsRegressor()\n",
    "svr = SVR()\n",
    "ridge = Ridge()\n",
    "lasso = Lasso()\n",
    "en = ElasticNet()\n",
    "\n",
    "# training the models\n",
    "dt.fit(train[['bogo ', 'chicken ', 'guest', 'breakfast_prop']], train['lunch_prop'])\n",
    "rf.fit(train[['bogo ', 'chicken ', 'guest', 'breakfast_prop']], train['lunch_prop'])\n",
    "knn.fit(train[['bogo ', 'chicken ', 'guest', 'breakfast_prop']], train['lunch_prop'])\n",
    "svr.fit(train[['bogo ', 'chicken ', 'guest', 'breakfast_prop']], train['lunch_prop'])\n",
    "ridge.fit(train[['bogo ', 'chicken ', 'guest', 'breakfast_prop']], train['lunch_prop'])\n",
    "lasso.fit(train[['bogo ', 'chicken ', 'guest', 'breakfast_prop']], train['lunch_prop'])\n",
    "en.fit(train[['bogo ', 'chicken ', 'guest', 'breakfast_prop']], train['lunch_prop'])\n",
    "\n",
    "# predicting the lunch proportion\n",
    "train['lunch_prop_pred_dt'] = dt.predict(train[['bogo ', 'chicken ', 'guest', 'breakfast_prop']])\n",
    "test['lunch_prop_pred_dt'] = dt.predict(test[['bogo ', 'chicken ', 'guest', 'breakfast_prop']])\n",
    "train['lunch_prop_pred_rf'] = rf.predict(train[['bogo ', 'chicken ', 'guest', 'breakfast_prop']])\n",
    "test['lunch_prop_pred_rf'] = rf.predict(test[['bogo ', 'chicken ', 'guest', 'breakfast_prop']])\n",
    "train['lunch_prop_pred_knn'] = knn.predict(train[['bogo ', 'chicken ', 'guest', 'breakfast_prop']])\n",
    "test['lunch_prop_pred_knn'] = knn.predict(test[['bogo ', 'chicken ', 'guest', 'breakfast_prop']])\n",
    "train['lunch_prop_pred_svr'] = svr.predict(train[['bogo ', 'chicken ', 'guest', 'breakfast_prop']])\n",
    "test['lunch_prop_pred_svr'] = svr.predict(test[['bogo ', 'chicken ', 'guest', 'breakfast_prop']])\n",
    "train['lunch_prop_pred_ridge'] = ridge.predict(train[['bogo ', 'chicken ', 'guest', 'breakfast_prop']])\n",
    "test['lunch_prop_pred_ridge'] = ridge.predict(test[['bogo ', 'chicken ', 'guest', 'breakfast_prop']])\n",
    "train['lunch_prop_pred_lasso'] = lasso.predict(train[['bogo ', 'chicken ', 'guest', 'breakfast_prop']])\n",
    "test['lunch_prop_pred_lasso'] = lasso.predict(test[['bogo ', 'chicken ', 'guest', 'breakfast_prop']])\n",
    "train['lunch_prop_pred_en'] = en.predict(train[['bogo ', 'chicken ', 'guest', 'breakfast_prop']])\n",
    "test['lunch_prop_pred_en'] = en.predict(test[['bogo ', 'chicken ', 'guest', 'breakfast_prop']])\n",
    "\n",
    "\n",
    "# plotting the train and test RMSE\n",
    "# plt.figure(figsize=(20, 10))\n",
    "plt.plot(np.sqrt(mean_squared_error(train['lunch_prop'], train['lunch_prop_pred_dt'])), np.sqrt(mean_squared_error(test['lunch_prop'], test['lunch_prop_pred_dt'])), 'bo', label='Decision Tree')\n",
    "plt.plot(np.sqrt(mean_squared_error(train['lunch_prop'], train['lunch_prop_pred_rf'])), np.sqrt(mean_squared_error(test['lunch_prop'], test['lunch_prop_pred_rf'])), 'go', label='Random Forest')\n",
    "plt.plot(np.sqrt(mean_squared_error(train['lunch_prop'], train['lunch_prop_pred_knn'])), np.sqrt(mean_squared_error(test['lunch_prop'], test['lunch_prop_pred_knn'])), 'ro', label='KNN')\n",
    "plt.plot(np.sqrt(mean_squared_error(train['lunch_prop'], train['lunch_prop_pred_svr'])), np.sqrt(mean_squared_error(test['lunch_prop'], test['lunch_prop_pred_svr'])), 'co', label='SVR')\n",
    "plt.plot(np.sqrt(mean_squared_error(train['lunch_prop'], train['lunch_prop_pred_ridge'])), np.sqrt(mean_squared_error(test['lunch_prop'], test['lunch_prop_pred_ridge'])), 'mo', label='Ridge')\n",
    "plt.plot(np.sqrt(mean_squared_error(train['lunch_prop'], train['lunch_prop_pred_lasso'])), np.sqrt(mean_squared_error(test['lunch_prop'], test['lunch_prop_pred_lasso'])), 'yo', label='Lasso')\n",
    "plt.plot(np.sqrt(mean_squared_error(train['lunch_prop'], train['lunch_prop_pred_en'])), np.sqrt(mean_squared_error(test['lunch_prop'], test['lunch_prop_pred_en'])), 'ko', label='ElasticNet')\n",
    "plt.xlabel('Train RMSE')\n",
    "plt.ylabel('Test RMSE')\n",
    "plt.title('Lunch Proportion')\n",
    "plt.legend()\n",
    "plt.show()"
   ]
  },
  {
   "cell_type": "code",
   "execution_count": null,
   "metadata": {},
   "outputs": [],
   "source": [
    "from sklearn.utils import resample\n",
    "\n",
    "threshold = 0.6\n",
    "\n",
    "train_minority = train[train['lunch_prop'] < threshold]\n",
    "train_majority = train[train['lunch_prop'] >= threshold]\n",
    "\n",
    "desired_length = int(len(train_majority)*1.5)\n",
    "train_minority_upsampled = resample(train_minority, replace=True, n_samples=desired_length, random_state=42)\n",
    "train_upsampled = pd.concat([train_majority, train_minority_upsampled])\n",
    "train_upsampled = train_upsampled.sample(frac=1, random_state=42)"
   ]
  },
  {
   "cell_type": "code",
   "execution_count": null,
   "metadata": {},
   "outputs": [],
   "source": [
    "dt.fit(train_upsampled[['bogo ', 'chicken ', 'guest', 'breakfast_prop']], train_upsampled['lunch_prop'])\n",
    "train['lunch_prop_pred_dt'] = dt.predict(train[['bogo ', 'chicken ', 'guest', 'breakfast_prop']])\n",
    "test['lunch_prop_pred_dt'] = dt.predict(test[['bogo ', 'chicken ', 'guest', 'breakfast_prop']])\n",
    "print(np.sqrt(mean_squared_error(train['lunch_prop'], train['lunch_prop_pred_dt'])), np.sqrt(mean_squared_error(test['lunch_prop'], test['lunch_prop_pred_dt'])))\n",
    "print(r2_score(train['lunch_prop'], train['lunch_prop_pred_dt']), r2_score(test['lunch_prop'], test['lunch_prop_pred_dt']))"
   ]
  },
  {
   "cell_type": "code",
   "execution_count": null,
   "metadata": {},
   "outputs": [],
   "source": [
    "from sklearn.model_selection import cross_val_score\n",
    "\n",
    "dt = DecisionTreeRegressor()\n",
    "\n",
    "# performing 5-fold cross-validation\n",
    "scores = cross_val_score(dt, train_upsampled[['bogo ', 'chicken ', 'guest', 'breakfast_prop']], train_upsampled['lunch_prop'], cv=5, scoring='neg_mean_squared_error')\n",
    "scores = -scores\n",
    "print(scores)"
   ]
  }
 ],
 "metadata": {
  "kernelspec": {
   "display_name": "Python 3",
   "language": "python",
   "name": "python3"
  },
  "language_info": {
   "codemirror_mode": {
    "name": "ipython",
    "version": 3
   },
   "file_extension": ".py",
   "mimetype": "text/x-python",
   "name": "python",
   "nbconvert_exporter": "python",
   "pygments_lexer": "ipython3",
   "version": "3.11.4"
  }
 },
 "nbformat": 4,
 "nbformat_minor": 2
}
