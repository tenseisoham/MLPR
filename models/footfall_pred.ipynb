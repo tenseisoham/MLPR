{
 "cells": [
  {
   "cell_type": "code",
   "execution_count": null,
   "metadata": {},
   "outputs": [],
   "source": [
    "import pandas as pd\n",
    "import numpy as np\n",
    "import matplotlib.pyplot as plt\n",
    "import seaborn as sns"
   ]
  },
  {
   "cell_type": "code",
   "execution_count": null,
   "metadata": {},
   "outputs": [],
   "source": [
    "data = pd.read_csv('../footfall_735.csv')\n",
    "data.head()"
   ]
  },
  {
   "cell_type": "code",
   "execution_count": null,
   "metadata": {},
   "outputs": [],
   "source": [
    "# dropping Unnamed: 0 column\n",
    "data.drop('Unnamed: 0.1', axis=1, inplace=True)\n",
    "data.drop('Unnamed: 0', axis=1, inplace=True)\n",
    "data.head()"
   ]
  },
  {
   "cell_type": "code",
   "execution_count": null,
   "metadata": {},
   "outputs": [],
   "source": [
    "data['date'] = pd.to_datetime(data['DATE'])\n",
    "data.head()"
   ]
  },
  {
   "cell_type": "code",
   "execution_count": null,
   "metadata": {},
   "outputs": [],
   "source": [
    "data.drop('DATE', axis=1, inplace=True)"
   ]
  },
  {
   "cell_type": "code",
   "execution_count": null,
   "metadata": {},
   "outputs": [],
   "source": [
    "data2 = data.drop('month', axis=1)"
   ]
  },
  {
   "cell_type": "code",
   "execution_count": null,
   "metadata": {},
   "outputs": [],
   "source": [
    "# one hot encoding for day of week\n",
    "data2 = pd.get_dummies(data, columns=['day'])\n",
    "# one hot encoding for meal_type \n",
    "data2 = pd.get_dummies(data2, columns=['meal_type'])"
   ]
  },
  {
   "cell_type": "code",
   "execution_count": null,
   "metadata": {},
   "outputs": [],
   "source": [
    "data2.head()"
   ]
  },
  {
   "cell_type": "code",
   "execution_count": null,
   "metadata": {},
   "outputs": [],
   "source": [
    "data3 = data2.drop('date', axis=1)"
   ]
  },
  {
   "cell_type": "code",
   "execution_count": null,
   "metadata": {},
   "outputs": [],
   "source": [
    "data3 = data3.drop('month', axis=1)"
   ]
  },
  {
   "cell_type": "code",
   "execution_count": null,
   "metadata": {},
   "outputs": [],
   "source": [
    "from sklearn.model_selection import train_test_split\n",
    "from sklearn.linear_model import LinearRegression\n",
    "from sklearn.metrics import mean_squared_error\n",
    "from sklearn.metrics import mean_absolute_error"
   ]
  },
  {
   "cell_type": "code",
   "execution_count": null,
   "metadata": {},
   "outputs": [],
   "source": [
    "# splitting the data into train and test\n",
    "X = data3.drop('footfall', axis=1)\n",
    "y = data3['footfall']\n",
    "X_train, X_test, y_train, y_test = train_test_split(X, y, test_size=0.3, random_state=101)"
   ]
  },
  {
   "cell_type": "code",
   "execution_count": null,
   "metadata": {},
   "outputs": [],
   "source": [
    "# training the model\n",
    "lm = LinearRegression()\n",
    "lm.fit(X_train, y_train)"
   ]
  },
  {
   "cell_type": "code",
   "execution_count": null,
   "metadata": {},
   "outputs": [],
   "source": [
    "# predicting the test data\n",
    "predictions = lm.predict(X_test)\n",
    "\n",
    "# calculating the mean squared error\n",
    "mse = mean_squared_error(y_test, predictions)\n",
    "print('Mean Squared Error: ', mse)\n",
    "\n",
    "# calculating the mean absolute error\n",
    "mae = mean_absolute_error(y_test, predictions)\n",
    "print('Mean Absolute Error: ', mae)"
   ]
  },
  {
   "cell_type": "code",
   "execution_count": null,
   "metadata": {},
   "outputs": [],
   "source": [
    "# calculating the root mean squared error\n",
    "rmse = np.sqrt(mse)\n",
    "print('Root Mean Squared Error: ', rmse)"
   ]
  },
  {
   "cell_type": "code",
   "execution_count": null,
   "metadata": {},
   "outputs": [],
   "source": [
    "lm.coef_"
   ]
  },
  {
   "cell_type": "code",
   "execution_count": null,
   "metadata": {},
   "outputs": [],
   "source": [
    "# getting the coefficients of the model\n",
    "coefficients = pd.DataFrame(lm.coef_, X.columns)\n",
    "coefficients.columns = ['Coefficients']\n",
    "coefficients"
   ]
  },
  {
   "cell_type": "code",
   "execution_count": null,
   "metadata": {},
   "outputs": [],
   "source": [
    "# plotting the regression line for the model\n",
    "plt.scatter(y_test, predictions)\n",
    "plt.plot([y_test.min(), y_test.max()], [y_test.min(), y_test.max()], 'r--')\n",
    "plt.xlabel('Y Test')\n",
    "plt.ylabel('Predicted Y')\n",
    "plt.show()"
   ]
  },
  {
   "cell_type": "code",
   "execution_count": null,
   "metadata": {},
   "outputs": [],
   "source": [
    "# plotting the residuals\n",
    "sns.distplot((y_test - predictions), bins=50)\n",
    "plt.show()"
   ]
  },
  {
   "cell_type": "code",
   "execution_count": null,
   "metadata": {},
   "outputs": [],
   "source": [
    "# using a poisson regression model\n",
    "import statsmodels.api as sm\n",
    "from statsmodels.formula.api import glm"
   ]
  },
  {
   "cell_type": "code",
   "execution_count": null,
   "metadata": {},
   "outputs": [],
   "source": [
    "# creating the poissson regression model\n",
    "\n",
    "model = glm(formula='footfall ~ day_Monday + day_Tuesday + day_Wednesday + bogo + paneer + day_Thursday + day_Friday + guest + test + day_Saturday + max_possible_footfall + day_Sunday + meal_type_Breakfast + meal_type_Dinner + meal_type_Lunch', data=data3, family=sm.families.Poisson()).fit()\n",
    "\n",
    "print(model.summary())"
   ]
  },
  {
   "cell_type": "code",
   "execution_count": null,
   "metadata": {},
   "outputs": [],
   "source": [
    "# printing the mean squared error\n",
    "mse = mean_squared_error(y_test, model.predict(X_test))\n",
    "print('Mean Squared Error: ', mse)\n",
    "\n",
    "# printing the mean absolute error\n",
    "mae = mean_absolute_error(y_test, model.predict(X_test))\n",
    "print('Mean Absolute Error: ', mae)"
   ]
  },
  {
   "cell_type": "code",
   "execution_count": null,
   "metadata": {},
   "outputs": [],
   "source": [
    "print('Root Mean Squared Error: ', np.sqrt(mse))"
   ]
  },
  {
   "cell_type": "code",
   "execution_count": null,
   "metadata": {},
   "outputs": [],
   "source": [
    "model2 = glm(formula='footfall ~ bogo + paneer + day_Sunday + day_Saturday + guest + test + max_possible_footfall + meal_type_Breakfast + meal_type_Dinner + meal_type_Lunch', data=data3, family=sm.families.Poisson()).fit()\n",
    "\n",
    "print(model2.summary())"
   ]
  },
  {
   "cell_type": "code",
   "execution_count": null,
   "metadata": {},
   "outputs": [],
   "source": [
    "# printing the mean squared error\n",
    "mse2 = mean_squared_error(y_test, model2.predict(X_test))\n",
    "print('Mean Squared Error: ', mse2)\n",
    "\n",
    "# printing the mean absolute error\n",
    "mae2 = mean_absolute_error(y_test, model2.predict(X_test))\n",
    "print('Mean Absolute Error: ', mae2)"
   ]
  },
  {
   "cell_type": "code",
   "execution_count": null,
   "metadata": {},
   "outputs": [],
   "source": [
    "print('Root Mean Squared Error: ', np.sqrt(mse))"
   ]
  },
  {
   "cell_type": "code",
   "execution_count": null,
   "metadata": {},
   "outputs": [],
   "source": [
    "# using the coefficients of the model to plot the regression line\n",
    "predictions = model2.predict(X_test)\n",
    "plt.scatter(y_test, predictions)\n",
    "plt.plot([y_test.min(), y_test.max()], [y_test.min(), y_test.max()], 'r--')\n",
    "plt.xlabel('Y Test')\n",
    "plt.ylabel('Predicted Y')\n",
    "plt.show()"
   ]
  },
  {
   "cell_type": "code",
   "execution_count": null,
   "metadata": {},
   "outputs": [],
   "source": [
    "# plotting the residuals\n",
    "sns.distplot((y_test - predictions), bins=50)\n",
    "plt.show()"
   ]
  },
  {
   "cell_type": "code",
   "execution_count": null,
   "metadata": {},
   "outputs": [],
   "source": [
    "# getting the days where the predicted footfall was off by more than 38\n",
    "data3['predicted_footfall'] = model2.predict(X)\n",
    "data3['difference'] = data3['predicted_footfall'] - data3['footfall']\n",
    "data3['difference'] = data3['difference'].abs()\n",
    "data3[data3['difference'] < 38]"
   ]
  },
  {
   "cell_type": "code",
   "execution_count": null,
   "metadata": {},
   "outputs": [],
   "source": [
    "(len(data3[data3['difference'] < 38]) / len(data3)) * 100"
   ]
  },
  {
   "cell_type": "code",
   "execution_count": null,
   "metadata": {},
   "outputs": [],
   "source": [
    "# getting the impact of the variables on the footfall\n",
    "coefficients = pd.DataFrame(model2.params, X.columns)\n",
    "coefficients.columns = ['Coefficients']"
   ]
  },
  {
   "cell_type": "code",
   "execution_count": null,
   "metadata": {},
   "outputs": [],
   "source": [
    "# saving the model to a pickle file\n",
    "import joblib\n",
    "joblib.dump(model2, 'poissonreg.pkl')"
   ]
  },
  {
   "cell_type": "code",
   "execution_count": null,
   "metadata": {},
   "outputs": [],
   "source": [
    "# printing the datatypes of the columns\n",
    "data3.dtypes"
   ]
  },
  {
   "cell_type": "code",
   "execution_count": null,
   "metadata": {},
   "outputs": [],
   "source": [
    "# mean mae for the model\n",
    "abs(data3['difference']).mean()"
   ]
  },
  {
   "cell_type": "code",
   "execution_count": null,
   "metadata": {},
   "outputs": [],
   "source": [
    "import seaborn as sns"
   ]
  },
  {
   "cell_type": "code",
   "execution_count": null,
   "metadata": {},
   "outputs": [],
   "source": [
    "columns_to_drop = ['footfall', 'predicted_footfall', 'difference', 'max_possible_footfall']\n",
    "for_corr = data3.drop(columns_to_drop, axis=1)"
   ]
  },
  {
   "cell_type": "code",
   "execution_count": null,
   "metadata": {},
   "outputs": [],
   "source": [
    "plt.figure(figsize=(10, 5))\n",
    "sns.heatmap(for_corr.corr())"
   ]
  },
  {
   "cell_type": "code",
   "execution_count": null,
   "metadata": {},
   "outputs": [],
   "source": [
    "# randomly oversampling to increase the number of rows by 1.5 times\n",
    "from imblearn.over_sampling import RandomOverSampler\n",
    "ros = RandomOverSampler(random_state=42)\n",
    "# sampling to increase the number of rows by 1.5 times\n",
    "X_resampled, y_resampled = ros.fit_resample(X, y)\n",
    "\n",
    "print('Original dataset shape', len(X))\n",
    "print('Resampled dataset shape', len(X_resampled))\n",
    "\n",
    "# adding both the sample dataframes into one\n",
    "X_resampled = pd.DataFrame(X_resampled, columns=X.columns)\n",
    "y_resampled = pd.DataFrame(y_resampled, columns=['footfall'])\n",
    "# adding the footfall column to the X_resampled dataframe\n",
    "X_resampled['footfall'] = y_resampled['footfall']\n",
    "\n",
    "\n",
    "# splitting the data into train and test\n",
    "X_train, X_test, y_train, y_test = train_test_split(X_resampled, y_resampled, test_size=0.3, random_state=101)\n",
    "\n",
    "formula = 'footfall ~ bogo + paneer + day_Sunday + day_Saturday + guest + test + max_possible_footfall + meal_type_Breakfast + meal_type_Dinner + meal_type_Lunch'\n",
    "\n",
    "# training the model\n",
    "poisson2 = glm(formula=formula, data=X_resampled, family=sm.families.Poisson()).fit()\n",
    "\n",
    "# printing the summary of the model\n",
    "print(poisson2.summary())"
   ]
  },
  {
   "cell_type": "code",
   "execution_count": null,
   "metadata": {},
   "outputs": [],
   "source": [
    "# printing the mean absolute error\n",
    "mae = mean_absolute_error(y_test, poisson2.predict(X_test))\n",
    "print('Mean Absolute Error: ', mae)"
   ]
  },
  {
   "cell_type": "code",
   "execution_count": null,
   "metadata": {},
   "outputs": [],
   "source": [
    "# doing exploratory data analysis\n",
    "data3.head()\n",
    "\n",
    "# plotting the footfall for each day of the week\n",
    "plt.figure(figsize=(10, 5))\n",
    "sns.barplot(x='day', y='footfall', data=data)\n",
    "plt.title('Footfall for each day of the week')\n",
    "plt.show()"
   ]
  },
  {
   "cell_type": "code",
   "execution_count": null,
   "metadata": {},
   "outputs": [],
   "source": [
    "# seeing how guest and test affect the footfall\n",
    "plt.figure(figsize=(10, 5))\n",
    "sns.barplot(x='guest', y='footfall', data=data)\n",
    "plt.title('Guest vs Footfall')\n",
    "plt.show()"
   ]
  },
  {
   "cell_type": "code",
   "execution_count": null,
   "metadata": {},
   "outputs": [],
   "source": [
    "# getting the r squared value for the model\n",
    "from sklearn.metrics import r2_score\n",
    "r2_score(y_test, poisson2.predict(X_test))"
   ]
  }
 ],
 "metadata": {
  "kernelspec": {
   "display_name": "Python 3",
   "language": "python",
   "name": "python3"
  },
  "language_info": {
   "codemirror_mode": {
    "name": "ipython",
    "version": 3
   },
   "file_extension": ".py",
   "mimetype": "text/x-python",
   "name": "python",
   "nbconvert_exporter": "python",
   "pygments_lexer": "ipython3",
   "version": "3.11.4"
  }
 },
 "nbformat": 4,
 "nbformat_minor": 2
}
