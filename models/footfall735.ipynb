{
 "cells": [
  {
   "cell_type": "code",
   "execution_count": 1,
   "metadata": {},
   "outputs": [],
   "source": [
    "import pandas as pd\n",
    "import numpy as np\n",
    "import matplotlib.pyplot as plt\n",
    "import seaborn as sns"
   ]
  },
  {
   "cell_type": "code",
   "execution_count": 2,
   "metadata": {},
   "outputs": [
    {
     "data": {
      "text/html": [
       "<div>\n",
       "<style scoped>\n",
       "    .dataframe tbody tr th:only-of-type {\n",
       "        vertical-align: middle;\n",
       "    }\n",
       "\n",
       "    .dataframe tbody tr th {\n",
       "        vertical-align: top;\n",
       "    }\n",
       "\n",
       "    .dataframe thead th {\n",
       "        text-align: right;\n",
       "    }\n",
       "</style>\n",
       "<table border=\"1\" class=\"dataframe\">\n",
       "  <thead>\n",
       "    <tr style=\"text-align: right;\">\n",
       "      <th></th>\n",
       "      <th>Unnamed: 0.1</th>\n",
       "      <th>Unnamed: 0</th>\n",
       "      <th>DATE</th>\n",
       "      <th>day</th>\n",
       "      <th>month</th>\n",
       "      <th>bogo</th>\n",
       "      <th>paneer</th>\n",
       "      <th>guest</th>\n",
       "      <th>test</th>\n",
       "      <th>meal_type</th>\n",
       "      <th>footfall</th>\n",
       "      <th>max_possible_footfall</th>\n",
       "    </tr>\n",
       "  </thead>\n",
       "  <tbody>\n",
       "    <tr>\n",
       "      <th>0</th>\n",
       "      <td>0</td>\n",
       "      <td>0</td>\n",
       "      <td>2023-07-29</td>\n",
       "      <td>Saturday</td>\n",
       "      <td>July</td>\n",
       "      <td>0</td>\n",
       "      <td>0</td>\n",
       "      <td>0</td>\n",
       "      <td>0</td>\n",
       "      <td>Dinner</td>\n",
       "      <td>48</td>\n",
       "      <td>89</td>\n",
       "    </tr>\n",
       "    <tr>\n",
       "      <th>1</th>\n",
       "      <td>1</td>\n",
       "      <td>1</td>\n",
       "      <td>2023-08-21</td>\n",
       "      <td>Monday</td>\n",
       "      <td>August</td>\n",
       "      <td>0</td>\n",
       "      <td>0</td>\n",
       "      <td>1</td>\n",
       "      <td>0</td>\n",
       "      <td>Breakfast</td>\n",
       "      <td>307</td>\n",
       "      <td>325</td>\n",
       "    </tr>\n",
       "    <tr>\n",
       "      <th>2</th>\n",
       "      <td>2</td>\n",
       "      <td>2</td>\n",
       "      <td>2023-05-16</td>\n",
       "      <td>Tuesday</td>\n",
       "      <td>May</td>\n",
       "      <td>0</td>\n",
       "      <td>0</td>\n",
       "      <td>0</td>\n",
       "      <td>0</td>\n",
       "      <td>Dinner</td>\n",
       "      <td>181</td>\n",
       "      <td>225</td>\n",
       "    </tr>\n",
       "    <tr>\n",
       "      <th>3</th>\n",
       "      <td>3</td>\n",
       "      <td>3</td>\n",
       "      <td>2023-06-08</td>\n",
       "      <td>Thursday</td>\n",
       "      <td>June</td>\n",
       "      <td>0</td>\n",
       "      <td>0</td>\n",
       "      <td>0</td>\n",
       "      <td>0</td>\n",
       "      <td>Dinner</td>\n",
       "      <td>80</td>\n",
       "      <td>120</td>\n",
       "    </tr>\n",
       "    <tr>\n",
       "      <th>4</th>\n",
       "      <td>4</td>\n",
       "      <td>4</td>\n",
       "      <td>2023-08-07</td>\n",
       "      <td>Monday</td>\n",
       "      <td>August</td>\n",
       "      <td>0</td>\n",
       "      <td>0</td>\n",
       "      <td>0</td>\n",
       "      <td>0</td>\n",
       "      <td>Dinner</td>\n",
       "      <td>52</td>\n",
       "      <td>100</td>\n",
       "    </tr>\n",
       "  </tbody>\n",
       "</table>\n",
       "</div>"
      ],
      "text/plain": [
       "   Unnamed: 0.1  Unnamed: 0        DATE       day   month  bogo  paneer  \\\n",
       "0             0           0  2023-07-29  Saturday    July     0       0   \n",
       "1             1           1  2023-08-21    Monday  August     0       0   \n",
       "2             2           2  2023-05-16   Tuesday     May     0       0   \n",
       "3             3           3  2023-06-08  Thursday    June     0       0   \n",
       "4             4           4  2023-08-07    Monday  August     0       0   \n",
       "\n",
       "   guest  test  meal_type  footfall  max_possible_footfall  \n",
       "0      0     0     Dinner        48                     89  \n",
       "1      1     0  Breakfast       307                    325  \n",
       "2      0     0     Dinner       181                    225  \n",
       "3      0     0     Dinner        80                    120  \n",
       "4      0     0     Dinner        52                    100  "
      ]
     },
     "execution_count": 2,
     "metadata": {},
     "output_type": "execute_result"
    }
   ],
   "source": [
    "data = pd.read_csv('../footfall_735.csv')\n",
    "data.head()"
   ]
  },
  {
   "cell_type": "code",
   "execution_count": 3,
   "metadata": {},
   "outputs": [
    {
     "data": {
      "text/html": [
       "<div>\n",
       "<style scoped>\n",
       "    .dataframe tbody tr th:only-of-type {\n",
       "        vertical-align: middle;\n",
       "    }\n",
       "\n",
       "    .dataframe tbody tr th {\n",
       "        vertical-align: top;\n",
       "    }\n",
       "\n",
       "    .dataframe thead th {\n",
       "        text-align: right;\n",
       "    }\n",
       "</style>\n",
       "<table border=\"1\" class=\"dataframe\">\n",
       "  <thead>\n",
       "    <tr style=\"text-align: right;\">\n",
       "      <th></th>\n",
       "      <th>DATE</th>\n",
       "      <th>day</th>\n",
       "      <th>month</th>\n",
       "      <th>bogo</th>\n",
       "      <th>paneer</th>\n",
       "      <th>guest</th>\n",
       "      <th>test</th>\n",
       "      <th>meal_type</th>\n",
       "      <th>footfall</th>\n",
       "      <th>max_possible_footfall</th>\n",
       "    </tr>\n",
       "  </thead>\n",
       "  <tbody>\n",
       "    <tr>\n",
       "      <th>0</th>\n",
       "      <td>2023-07-29</td>\n",
       "      <td>Saturday</td>\n",
       "      <td>July</td>\n",
       "      <td>0</td>\n",
       "      <td>0</td>\n",
       "      <td>0</td>\n",
       "      <td>0</td>\n",
       "      <td>Dinner</td>\n",
       "      <td>48</td>\n",
       "      <td>89</td>\n",
       "    </tr>\n",
       "    <tr>\n",
       "      <th>1</th>\n",
       "      <td>2023-08-21</td>\n",
       "      <td>Monday</td>\n",
       "      <td>August</td>\n",
       "      <td>0</td>\n",
       "      <td>0</td>\n",
       "      <td>1</td>\n",
       "      <td>0</td>\n",
       "      <td>Breakfast</td>\n",
       "      <td>307</td>\n",
       "      <td>325</td>\n",
       "    </tr>\n",
       "    <tr>\n",
       "      <th>2</th>\n",
       "      <td>2023-05-16</td>\n",
       "      <td>Tuesday</td>\n",
       "      <td>May</td>\n",
       "      <td>0</td>\n",
       "      <td>0</td>\n",
       "      <td>0</td>\n",
       "      <td>0</td>\n",
       "      <td>Dinner</td>\n",
       "      <td>181</td>\n",
       "      <td>225</td>\n",
       "    </tr>\n",
       "    <tr>\n",
       "      <th>3</th>\n",
       "      <td>2023-06-08</td>\n",
       "      <td>Thursday</td>\n",
       "      <td>June</td>\n",
       "      <td>0</td>\n",
       "      <td>0</td>\n",
       "      <td>0</td>\n",
       "      <td>0</td>\n",
       "      <td>Dinner</td>\n",
       "      <td>80</td>\n",
       "      <td>120</td>\n",
       "    </tr>\n",
       "    <tr>\n",
       "      <th>4</th>\n",
       "      <td>2023-08-07</td>\n",
       "      <td>Monday</td>\n",
       "      <td>August</td>\n",
       "      <td>0</td>\n",
       "      <td>0</td>\n",
       "      <td>0</td>\n",
       "      <td>0</td>\n",
       "      <td>Dinner</td>\n",
       "      <td>52</td>\n",
       "      <td>100</td>\n",
       "    </tr>\n",
       "  </tbody>\n",
       "</table>\n",
       "</div>"
      ],
      "text/plain": [
       "         DATE       day   month  bogo  paneer  guest  test  meal_type  \\\n",
       "0  2023-07-29  Saturday    July     0       0      0     0     Dinner   \n",
       "1  2023-08-21    Monday  August     0       0      1     0  Breakfast   \n",
       "2  2023-05-16   Tuesday     May     0       0      0     0     Dinner   \n",
       "3  2023-06-08  Thursday    June     0       0      0     0     Dinner   \n",
       "4  2023-08-07    Monday  August     0       0      0     0     Dinner   \n",
       "\n",
       "   footfall  max_possible_footfall  \n",
       "0        48                     89  \n",
       "1       307                    325  \n",
       "2       181                    225  \n",
       "3        80                    120  \n",
       "4        52                    100  "
      ]
     },
     "execution_count": 3,
     "metadata": {},
     "output_type": "execute_result"
    }
   ],
   "source": [
    "# dropping Unnamed: 0 column\n",
    "data.drop('Unnamed: 0.1', axis=1, inplace=True)\n",
    "data.drop('Unnamed: 0', axis=1, inplace=True)\n",
    "data.head()"
   ]
  },
  {
   "cell_type": "code",
   "execution_count": 4,
   "metadata": {},
   "outputs": [
    {
     "data": {
      "text/html": [
       "<div>\n",
       "<style scoped>\n",
       "    .dataframe tbody tr th:only-of-type {\n",
       "        vertical-align: middle;\n",
       "    }\n",
       "\n",
       "    .dataframe tbody tr th {\n",
       "        vertical-align: top;\n",
       "    }\n",
       "\n",
       "    .dataframe thead th {\n",
       "        text-align: right;\n",
       "    }\n",
       "</style>\n",
       "<table border=\"1\" class=\"dataframe\">\n",
       "  <thead>\n",
       "    <tr style=\"text-align: right;\">\n",
       "      <th></th>\n",
       "      <th>DATE</th>\n",
       "      <th>day</th>\n",
       "      <th>month</th>\n",
       "      <th>bogo</th>\n",
       "      <th>paneer</th>\n",
       "      <th>guest</th>\n",
       "      <th>test</th>\n",
       "      <th>meal_type</th>\n",
       "      <th>footfall</th>\n",
       "      <th>max_possible_footfall</th>\n",
       "      <th>date</th>\n",
       "    </tr>\n",
       "  </thead>\n",
       "  <tbody>\n",
       "    <tr>\n",
       "      <th>0</th>\n",
       "      <td>2023-07-29</td>\n",
       "      <td>Saturday</td>\n",
       "      <td>July</td>\n",
       "      <td>0</td>\n",
       "      <td>0</td>\n",
       "      <td>0</td>\n",
       "      <td>0</td>\n",
       "      <td>Dinner</td>\n",
       "      <td>48</td>\n",
       "      <td>89</td>\n",
       "      <td>2023-07-29</td>\n",
       "    </tr>\n",
       "    <tr>\n",
       "      <th>1</th>\n",
       "      <td>2023-08-21</td>\n",
       "      <td>Monday</td>\n",
       "      <td>August</td>\n",
       "      <td>0</td>\n",
       "      <td>0</td>\n",
       "      <td>1</td>\n",
       "      <td>0</td>\n",
       "      <td>Breakfast</td>\n",
       "      <td>307</td>\n",
       "      <td>325</td>\n",
       "      <td>2023-08-21</td>\n",
       "    </tr>\n",
       "    <tr>\n",
       "      <th>2</th>\n",
       "      <td>2023-05-16</td>\n",
       "      <td>Tuesday</td>\n",
       "      <td>May</td>\n",
       "      <td>0</td>\n",
       "      <td>0</td>\n",
       "      <td>0</td>\n",
       "      <td>0</td>\n",
       "      <td>Dinner</td>\n",
       "      <td>181</td>\n",
       "      <td>225</td>\n",
       "      <td>2023-05-16</td>\n",
       "    </tr>\n",
       "    <tr>\n",
       "      <th>3</th>\n",
       "      <td>2023-06-08</td>\n",
       "      <td>Thursday</td>\n",
       "      <td>June</td>\n",
       "      <td>0</td>\n",
       "      <td>0</td>\n",
       "      <td>0</td>\n",
       "      <td>0</td>\n",
       "      <td>Dinner</td>\n",
       "      <td>80</td>\n",
       "      <td>120</td>\n",
       "      <td>2023-06-08</td>\n",
       "    </tr>\n",
       "    <tr>\n",
       "      <th>4</th>\n",
       "      <td>2023-08-07</td>\n",
       "      <td>Monday</td>\n",
       "      <td>August</td>\n",
       "      <td>0</td>\n",
       "      <td>0</td>\n",
       "      <td>0</td>\n",
       "      <td>0</td>\n",
       "      <td>Dinner</td>\n",
       "      <td>52</td>\n",
       "      <td>100</td>\n",
       "      <td>2023-08-07</td>\n",
       "    </tr>\n",
       "  </tbody>\n",
       "</table>\n",
       "</div>"
      ],
      "text/plain": [
       "         DATE       day   month  bogo  paneer  guest  test  meal_type  \\\n",
       "0  2023-07-29  Saturday    July     0       0      0     0     Dinner   \n",
       "1  2023-08-21    Monday  August     0       0      1     0  Breakfast   \n",
       "2  2023-05-16   Tuesday     May     0       0      0     0     Dinner   \n",
       "3  2023-06-08  Thursday    June     0       0      0     0     Dinner   \n",
       "4  2023-08-07    Monday  August     0       0      0     0     Dinner   \n",
       "\n",
       "   footfall  max_possible_footfall       date  \n",
       "0        48                     89 2023-07-29  \n",
       "1       307                    325 2023-08-21  \n",
       "2       181                    225 2023-05-16  \n",
       "3        80                    120 2023-06-08  \n",
       "4        52                    100 2023-08-07  "
      ]
     },
     "execution_count": 4,
     "metadata": {},
     "output_type": "execute_result"
    }
   ],
   "source": [
    "data['date'] = pd.to_datetime(data['DATE'])\n",
    "data.head()"
   ]
  },
  {
   "cell_type": "code",
   "execution_count": 5,
   "metadata": {},
   "outputs": [],
   "source": [
    "data.drop('DATE', axis=1, inplace=True)"
   ]
  },
  {
   "cell_type": "code",
   "execution_count": 6,
   "metadata": {},
   "outputs": [],
   "source": [
    "data2 = data.drop('month', axis=1)"
   ]
  },
  {
   "cell_type": "code",
   "execution_count": 7,
   "metadata": {},
   "outputs": [],
   "source": [
    "# one hot encoding for day of week\n",
    "data2 = pd.get_dummies(data, columns=['day'])\n",
    "# one hot encoding for meal_type \n",
    "data2 = pd.get_dummies(data2, columns=['meal_type'])"
   ]
  },
  {
   "cell_type": "code",
   "execution_count": 8,
   "metadata": {},
   "outputs": [
    {
     "data": {
      "text/html": [
       "<div>\n",
       "<style scoped>\n",
       "    .dataframe tbody tr th:only-of-type {\n",
       "        vertical-align: middle;\n",
       "    }\n",
       "\n",
       "    .dataframe tbody tr th {\n",
       "        vertical-align: top;\n",
       "    }\n",
       "\n",
       "    .dataframe thead th {\n",
       "        text-align: right;\n",
       "    }\n",
       "</style>\n",
       "<table border=\"1\" class=\"dataframe\">\n",
       "  <thead>\n",
       "    <tr style=\"text-align: right;\">\n",
       "      <th></th>\n",
       "      <th>month</th>\n",
       "      <th>bogo</th>\n",
       "      <th>paneer</th>\n",
       "      <th>guest</th>\n",
       "      <th>test</th>\n",
       "      <th>footfall</th>\n",
       "      <th>max_possible_footfall</th>\n",
       "      <th>date</th>\n",
       "      <th>day_Friday</th>\n",
       "      <th>day_Monday</th>\n",
       "      <th>day_Saturday</th>\n",
       "      <th>day_Sunday</th>\n",
       "      <th>day_Thursday</th>\n",
       "      <th>day_Tuesday</th>\n",
       "      <th>day_Wednesday</th>\n",
       "      <th>meal_type_Breakfast</th>\n",
       "      <th>meal_type_Dinner</th>\n",
       "      <th>meal_type_Lunch</th>\n",
       "      <th>meal_type_Snacks</th>\n",
       "    </tr>\n",
       "  </thead>\n",
       "  <tbody>\n",
       "    <tr>\n",
       "      <th>0</th>\n",
       "      <td>July</td>\n",
       "      <td>0</td>\n",
       "      <td>0</td>\n",
       "      <td>0</td>\n",
       "      <td>0</td>\n",
       "      <td>48</td>\n",
       "      <td>89</td>\n",
       "      <td>2023-07-29</td>\n",
       "      <td>False</td>\n",
       "      <td>False</td>\n",
       "      <td>True</td>\n",
       "      <td>False</td>\n",
       "      <td>False</td>\n",
       "      <td>False</td>\n",
       "      <td>False</td>\n",
       "      <td>False</td>\n",
       "      <td>True</td>\n",
       "      <td>False</td>\n",
       "      <td>False</td>\n",
       "    </tr>\n",
       "    <tr>\n",
       "      <th>1</th>\n",
       "      <td>August</td>\n",
       "      <td>0</td>\n",
       "      <td>0</td>\n",
       "      <td>1</td>\n",
       "      <td>0</td>\n",
       "      <td>307</td>\n",
       "      <td>325</td>\n",
       "      <td>2023-08-21</td>\n",
       "      <td>False</td>\n",
       "      <td>True</td>\n",
       "      <td>False</td>\n",
       "      <td>False</td>\n",
       "      <td>False</td>\n",
       "      <td>False</td>\n",
       "      <td>False</td>\n",
       "      <td>True</td>\n",
       "      <td>False</td>\n",
       "      <td>False</td>\n",
       "      <td>False</td>\n",
       "    </tr>\n",
       "    <tr>\n",
       "      <th>2</th>\n",
       "      <td>May</td>\n",
       "      <td>0</td>\n",
       "      <td>0</td>\n",
       "      <td>0</td>\n",
       "      <td>0</td>\n",
       "      <td>181</td>\n",
       "      <td>225</td>\n",
       "      <td>2023-05-16</td>\n",
       "      <td>False</td>\n",
       "      <td>False</td>\n",
       "      <td>False</td>\n",
       "      <td>False</td>\n",
       "      <td>False</td>\n",
       "      <td>True</td>\n",
       "      <td>False</td>\n",
       "      <td>False</td>\n",
       "      <td>True</td>\n",
       "      <td>False</td>\n",
       "      <td>False</td>\n",
       "    </tr>\n",
       "    <tr>\n",
       "      <th>3</th>\n",
       "      <td>June</td>\n",
       "      <td>0</td>\n",
       "      <td>0</td>\n",
       "      <td>0</td>\n",
       "      <td>0</td>\n",
       "      <td>80</td>\n",
       "      <td>120</td>\n",
       "      <td>2023-06-08</td>\n",
       "      <td>False</td>\n",
       "      <td>False</td>\n",
       "      <td>False</td>\n",
       "      <td>False</td>\n",
       "      <td>True</td>\n",
       "      <td>False</td>\n",
       "      <td>False</td>\n",
       "      <td>False</td>\n",
       "      <td>True</td>\n",
       "      <td>False</td>\n",
       "      <td>False</td>\n",
       "    </tr>\n",
       "    <tr>\n",
       "      <th>4</th>\n",
       "      <td>August</td>\n",
       "      <td>0</td>\n",
       "      <td>0</td>\n",
       "      <td>0</td>\n",
       "      <td>0</td>\n",
       "      <td>52</td>\n",
       "      <td>100</td>\n",
       "      <td>2023-08-07</td>\n",
       "      <td>False</td>\n",
       "      <td>True</td>\n",
       "      <td>False</td>\n",
       "      <td>False</td>\n",
       "      <td>False</td>\n",
       "      <td>False</td>\n",
       "      <td>False</td>\n",
       "      <td>False</td>\n",
       "      <td>True</td>\n",
       "      <td>False</td>\n",
       "      <td>False</td>\n",
       "    </tr>\n",
       "  </tbody>\n",
       "</table>\n",
       "</div>"
      ],
      "text/plain": [
       "    month  bogo  paneer  guest  test  footfall  max_possible_footfall  \\\n",
       "0    July     0       0      0     0        48                     89   \n",
       "1  August     0       0      1     0       307                    325   \n",
       "2     May     0       0      0     0       181                    225   \n",
       "3    June     0       0      0     0        80                    120   \n",
       "4  August     0       0      0     0        52                    100   \n",
       "\n",
       "        date  day_Friday  day_Monday  day_Saturday  day_Sunday  day_Thursday  \\\n",
       "0 2023-07-29       False       False          True       False         False   \n",
       "1 2023-08-21       False        True         False       False         False   \n",
       "2 2023-05-16       False       False         False       False         False   \n",
       "3 2023-06-08       False       False         False       False          True   \n",
       "4 2023-08-07       False        True         False       False         False   \n",
       "\n",
       "   day_Tuesday  day_Wednesday  meal_type_Breakfast  meal_type_Dinner  \\\n",
       "0        False          False                False              True   \n",
       "1        False          False                 True             False   \n",
       "2         True          False                False              True   \n",
       "3        False          False                False              True   \n",
       "4        False          False                False              True   \n",
       "\n",
       "   meal_type_Lunch  meal_type_Snacks  \n",
       "0            False             False  \n",
       "1            False             False  \n",
       "2            False             False  \n",
       "3            False             False  \n",
       "4            False             False  "
      ]
     },
     "execution_count": 8,
     "metadata": {},
     "output_type": "execute_result"
    }
   ],
   "source": [
    "data2.head()"
   ]
  },
  {
   "cell_type": "code",
   "execution_count": 9,
   "metadata": {},
   "outputs": [],
   "source": [
    "data3 = data2.drop('date', axis=1)"
   ]
  },
  {
   "cell_type": "code",
   "execution_count": 10,
   "metadata": {},
   "outputs": [],
   "source": [
    "data3 = data3.drop('month', axis=1)"
   ]
  },
  {
   "cell_type": "code",
   "execution_count": 11,
   "metadata": {},
   "outputs": [],
   "source": [
    "# predicting footfall for the days of the week\n",
    "from sklearn.model_selection import train_test_split\n",
    "from sklearn.linear_model import LinearRegression\n",
    "from sklearn.metrics import mean_squared_error\n",
    "from sklearn.metrics import mean_absolute_error"
   ]
  },
  {
   "cell_type": "code",
   "execution_count": 12,
   "metadata": {},
   "outputs": [],
   "source": [
    "# splitting the data into train and test\n",
    "X = data3.drop('footfall', axis=1)\n",
    "y = data3['footfall']\n",
    "X_train, X_test, y_train, y_test = train_test_split(X, y, test_size=0.3, random_state=101)"
   ]
  },
  {
   "cell_type": "code",
   "execution_count": 13,
   "metadata": {},
   "outputs": [
    {
     "data": {
      "text/html": [
       "<style>#sk-container-id-1 {color: black;}#sk-container-id-1 pre{padding: 0;}#sk-container-id-1 div.sk-toggleable {background-color: white;}#sk-container-id-1 label.sk-toggleable__label {cursor: pointer;display: block;width: 100%;margin-bottom: 0;padding: 0.3em;box-sizing: border-box;text-align: center;}#sk-container-id-1 label.sk-toggleable__label-arrow:before {content: \"▸\";float: left;margin-right: 0.25em;color: #696969;}#sk-container-id-1 label.sk-toggleable__label-arrow:hover:before {color: black;}#sk-container-id-1 div.sk-estimator:hover label.sk-toggleable__label-arrow:before {color: black;}#sk-container-id-1 div.sk-toggleable__content {max-height: 0;max-width: 0;overflow: hidden;text-align: left;background-color: #f0f8ff;}#sk-container-id-1 div.sk-toggleable__content pre {margin: 0.2em;color: black;border-radius: 0.25em;background-color: #f0f8ff;}#sk-container-id-1 input.sk-toggleable__control:checked~div.sk-toggleable__content {max-height: 200px;max-width: 100%;overflow: auto;}#sk-container-id-1 input.sk-toggleable__control:checked~label.sk-toggleable__label-arrow:before {content: \"▾\";}#sk-container-id-1 div.sk-estimator input.sk-toggleable__control:checked~label.sk-toggleable__label {background-color: #d4ebff;}#sk-container-id-1 div.sk-label input.sk-toggleable__control:checked~label.sk-toggleable__label {background-color: #d4ebff;}#sk-container-id-1 input.sk-hidden--visually {border: 0;clip: rect(1px 1px 1px 1px);clip: rect(1px, 1px, 1px, 1px);height: 1px;margin: -1px;overflow: hidden;padding: 0;position: absolute;width: 1px;}#sk-container-id-1 div.sk-estimator {font-family: monospace;background-color: #f0f8ff;border: 1px dotted black;border-radius: 0.25em;box-sizing: border-box;margin-bottom: 0.5em;}#sk-container-id-1 div.sk-estimator:hover {background-color: #d4ebff;}#sk-container-id-1 div.sk-parallel-item::after {content: \"\";width: 100%;border-bottom: 1px solid gray;flex-grow: 1;}#sk-container-id-1 div.sk-label:hover label.sk-toggleable__label {background-color: #d4ebff;}#sk-container-id-1 div.sk-serial::before {content: \"\";position: absolute;border-left: 1px solid gray;box-sizing: border-box;top: 0;bottom: 0;left: 50%;z-index: 0;}#sk-container-id-1 div.sk-serial {display: flex;flex-direction: column;align-items: center;background-color: white;padding-right: 0.2em;padding-left: 0.2em;position: relative;}#sk-container-id-1 div.sk-item {position: relative;z-index: 1;}#sk-container-id-1 div.sk-parallel {display: flex;align-items: stretch;justify-content: center;background-color: white;position: relative;}#sk-container-id-1 div.sk-item::before, #sk-container-id-1 div.sk-parallel-item::before {content: \"\";position: absolute;border-left: 1px solid gray;box-sizing: border-box;top: 0;bottom: 0;left: 50%;z-index: -1;}#sk-container-id-1 div.sk-parallel-item {display: flex;flex-direction: column;z-index: 1;position: relative;background-color: white;}#sk-container-id-1 div.sk-parallel-item:first-child::after {align-self: flex-end;width: 50%;}#sk-container-id-1 div.sk-parallel-item:last-child::after {align-self: flex-start;width: 50%;}#sk-container-id-1 div.sk-parallel-item:only-child::after {width: 0;}#sk-container-id-1 div.sk-dashed-wrapped {border: 1px dashed gray;margin: 0 0.4em 0.5em 0.4em;box-sizing: border-box;padding-bottom: 0.4em;background-color: white;}#sk-container-id-1 div.sk-label label {font-family: monospace;font-weight: bold;display: inline-block;line-height: 1.2em;}#sk-container-id-1 div.sk-label-container {text-align: center;}#sk-container-id-1 div.sk-container {/* jupyter's `normalize.less` sets `[hidden] { display: none; }` but bootstrap.min.css set `[hidden] { display: none !important; }` so we also need the `!important` here to be able to override the default hidden behavior on the sphinx rendered scikit-learn.org. See: https://github.com/scikit-learn/scikit-learn/issues/21755 */display: inline-block !important;position: relative;}#sk-container-id-1 div.sk-text-repr-fallback {display: none;}</style><div id=\"sk-container-id-1\" class=\"sk-top-container\"><div class=\"sk-text-repr-fallback\"><pre>LinearRegression()</pre><b>In a Jupyter environment, please rerun this cell to show the HTML representation or trust the notebook. <br />On GitHub, the HTML representation is unable to render, please try loading this page with nbviewer.org.</b></div><div class=\"sk-container\" hidden><div class=\"sk-item\"><div class=\"sk-estimator sk-toggleable\"><input class=\"sk-toggleable__control sk-hidden--visually\" id=\"sk-estimator-id-1\" type=\"checkbox\" checked><label for=\"sk-estimator-id-1\" class=\"sk-toggleable__label sk-toggleable__label-arrow\">LinearRegression</label><div class=\"sk-toggleable__content\"><pre>LinearRegression()</pre></div></div></div></div></div>"
      ],
      "text/plain": [
       "LinearRegression()"
      ]
     },
     "execution_count": 13,
     "metadata": {},
     "output_type": "execute_result"
    }
   ],
   "source": [
    "# training the model\n",
    "lm = LinearRegression()\n",
    "lm.fit(X_train, y_train)"
   ]
  },
  {
   "cell_type": "code",
   "execution_count": 14,
   "metadata": {},
   "outputs": [
    {
     "name": "stdout",
     "output_type": "stream",
     "text": [
      "Mean Squared Error:  3643.2735765966127\n",
      "Mean Absolute Error:  48.00490439398303\n"
     ]
    }
   ],
   "source": [
    "# predicting the test data\n",
    "predictions = lm.predict(X_test)\n",
    "\n",
    "# calculating the mean squared error\n",
    "mse = mean_squared_error(y_test, predictions)\n",
    "print('Mean Squared Error: ', mse)\n",
    "\n",
    "# calculating the mean absolute error\n",
    "mae = mean_absolute_error(y_test, predictions)\n",
    "print('Mean Absolute Error: ', mae)"
   ]
  },
  {
   "cell_type": "code",
   "execution_count": 15,
   "metadata": {},
   "outputs": [
    {
     "name": "stdout",
     "output_type": "stream",
     "text": [
      "Root Mean Squared Error:  60.359535920984456\n"
     ]
    }
   ],
   "source": [
    "# calculating the root mean squared error\n",
    "rmse = np.sqrt(mse)\n",
    "print('Root Mean Squared Error: ', rmse)"
   ]
  },
  {
   "cell_type": "code",
   "execution_count": 16,
   "metadata": {},
   "outputs": [
    {
     "data": {
      "text/plain": [
       "array([ -53.26518769,   28.53632891, -111.19628697,  -21.52789586,\n",
       "          0.75627373,   27.82078382,   18.84292871,  -24.23064712,\n",
       "        -39.94388102,   -1.94183292,   -6.5301463 ,   25.98279484,\n",
       "        -11.01098376,   13.94547876,    9.13962608,  -12.07412109])"
      ]
     },
     "execution_count": 16,
     "metadata": {},
     "output_type": "execute_result"
    }
   ],
   "source": [
    "lm.coef_"
   ]
  },
  {
   "cell_type": "code",
   "execution_count": 17,
   "metadata": {},
   "outputs": [
    {
     "data": {
      "text/html": [
       "<div>\n",
       "<style scoped>\n",
       "    .dataframe tbody tr th:only-of-type {\n",
       "        vertical-align: middle;\n",
       "    }\n",
       "\n",
       "    .dataframe tbody tr th {\n",
       "        vertical-align: top;\n",
       "    }\n",
       "\n",
       "    .dataframe thead th {\n",
       "        text-align: right;\n",
       "    }\n",
       "</style>\n",
       "<table border=\"1\" class=\"dataframe\">\n",
       "  <thead>\n",
       "    <tr style=\"text-align: right;\">\n",
       "      <th></th>\n",
       "      <th>Coefficients</th>\n",
       "    </tr>\n",
       "  </thead>\n",
       "  <tbody>\n",
       "    <tr>\n",
       "      <th>bogo</th>\n",
       "      <td>-53.265188</td>\n",
       "    </tr>\n",
       "    <tr>\n",
       "      <th>paneer</th>\n",
       "      <td>28.536329</td>\n",
       "    </tr>\n",
       "    <tr>\n",
       "      <th>guest</th>\n",
       "      <td>-111.196287</td>\n",
       "    </tr>\n",
       "    <tr>\n",
       "      <th>test</th>\n",
       "      <td>-21.527896</td>\n",
       "    </tr>\n",
       "    <tr>\n",
       "      <th>max_possible_footfall</th>\n",
       "      <td>0.756274</td>\n",
       "    </tr>\n",
       "    <tr>\n",
       "      <th>day_Friday</th>\n",
       "      <td>27.820784</td>\n",
       "    </tr>\n",
       "    <tr>\n",
       "      <th>day_Monday</th>\n",
       "      <td>18.842929</td>\n",
       "    </tr>\n",
       "    <tr>\n",
       "      <th>day_Saturday</th>\n",
       "      <td>-24.230647</td>\n",
       "    </tr>\n",
       "    <tr>\n",
       "      <th>day_Sunday</th>\n",
       "      <td>-39.943881</td>\n",
       "    </tr>\n",
       "    <tr>\n",
       "      <th>day_Thursday</th>\n",
       "      <td>-1.941833</td>\n",
       "    </tr>\n",
       "    <tr>\n",
       "      <th>day_Tuesday</th>\n",
       "      <td>-6.530146</td>\n",
       "    </tr>\n",
       "    <tr>\n",
       "      <th>day_Wednesday</th>\n",
       "      <td>25.982795</td>\n",
       "    </tr>\n",
       "    <tr>\n",
       "      <th>meal_type_Breakfast</th>\n",
       "      <td>-11.010984</td>\n",
       "    </tr>\n",
       "    <tr>\n",
       "      <th>meal_type_Dinner</th>\n",
       "      <td>13.945479</td>\n",
       "    </tr>\n",
       "    <tr>\n",
       "      <th>meal_type_Lunch</th>\n",
       "      <td>9.139626</td>\n",
       "    </tr>\n",
       "    <tr>\n",
       "      <th>meal_type_Snacks</th>\n",
       "      <td>-12.074121</td>\n",
       "    </tr>\n",
       "  </tbody>\n",
       "</table>\n",
       "</div>"
      ],
      "text/plain": [
       "                       Coefficients\n",
       "bogo                     -53.265188\n",
       "paneer                    28.536329\n",
       "guest                   -111.196287\n",
       "test                     -21.527896\n",
       "max_possible_footfall      0.756274\n",
       "day_Friday                27.820784\n",
       "day_Monday                18.842929\n",
       "day_Saturday             -24.230647\n",
       "day_Sunday               -39.943881\n",
       "day_Thursday              -1.941833\n",
       "day_Tuesday               -6.530146\n",
       "day_Wednesday             25.982795\n",
       "meal_type_Breakfast      -11.010984\n",
       "meal_type_Dinner          13.945479\n",
       "meal_type_Lunch            9.139626\n",
       "meal_type_Snacks         -12.074121"
      ]
     },
     "execution_count": 17,
     "metadata": {},
     "output_type": "execute_result"
    }
   ],
   "source": [
    "# getting the coefficients of the model\n",
    "coefficients = pd.DataFrame(lm.coef_, X.columns)\n",
    "coefficients.columns = ['Coefficients']\n",
    "coefficients"
   ]
  },
  {
   "cell_type": "code",
   "execution_count": 18,
   "metadata": {},
   "outputs": [
    {
     "data": {
      "image/png": "[encoded data removed]",
      "text/plain": [
       "<Figure size 640x480 with 1 Axes>"
      ]
     },
     "metadata": {},
     "output_type": "display_data"
    }
   ],
   "source": [
    "# plotting the regression line for the model\n",
    "plt.scatter(y_test, predictions)\n",
    "plt.plot([y_test.min(), y_test.max()], [y_test.min(), y_test.max()], 'r--')\n",
    "plt.xlabel('Y Test')\n",
    "plt.ylabel('Predicted Y')\n",
    "plt.show()"
   ]
  },
  {
   "cell_type": "code",
   "execution_count": 19,
   "metadata": {},
   "outputs": [
    {
     "name": "stderr",
     "output_type": "stream",
     "text": [
      "C:\\Users\\Alli Ajagbe\\AppData\\Local\\Temp\\ipykernel_13748\\232137980.py:2: UserWarning: \n",
      "\n",
      "`distplot` is a deprecated function and will be removed in seaborn v0.14.0.\n",
      "\n",
      "Please adapt your code to use either `displot` (a figure-level function with\n",
      "similar flexibility) or `histplot` (an axes-level function for histograms).\n",
      "\n",
      "For a guide to updating your code to use the new functions, please see\n",
      "https://gist.github.com/mwaskom/de44147ed2974457ad6372750bbe5751\n",
      "\n",
      "  sns.distplot((y_test - predictions), bins=50)\n"
     ]
    },
    {
     "data": {
      "image/png": "[encoded data removed]",
      "text/plain": [
       "<Figure size 640x480 with 1 Axes>"
      ]
     },
     "metadata": {},
     "output_type": "display_data"
    }
   ],
   "source": [
    "# plotting the residuals\n",
    "sns.distplot((y_test - predictions), bins=50)\n",
    "plt.show()"
   ]
  },
  {
   "cell_type": "code",
   "execution_count": 20,
   "metadata": {},
   "outputs": [
    {
     "name": "stdout",
     "output_type": "stream",
     "text": [
      "Requirement already satisfied: statsmodels in c:\\users\\alli ajagbe\\appdata\\local\\programs\\python\\python311\\lib\\site-packages (0.14.0)Note: you may need to restart the kernel to use updated packages.\n",
      "\n",
      "Requirement already satisfied: numpy>=1.18 in c:\\users\\alli ajagbe\\appdata\\local\\programs\\python\\python311\\lib\\site-packages (from statsmodels) (1.24.4)\n",
      "Requirement already satisfied: scipy!=1.9.2,>=1.4 in c:\\users\\alli ajagbe\\appdata\\local\\programs\\python\\python311\\lib\\site-packages (from statsmodels) (1.11.1)\n",
      "Requirement already satisfied: pandas>=1.0 in c:\\users\\alli ajagbe\\appdata\\local\\programs\\python\\python311\\lib\\site-packages (from statsmodels) (2.0.2)\n",
      "Requirement already satisfied: patsy>=0.5.2 in c:\\users\\alli ajagbe\\appdata\\local\\programs\\python\\python311\\lib\\site-packages (from statsmodels) (0.5.4)\n",
      "Requirement already satisfied: packaging>=21.3 in c:\\users\\alli ajagbe\\appdata\\local\\programs\\python\\python311\\lib\\site-packages (from statsmodels) (23.1)\n",
      "Requirement already satisfied: python-dateutil>=2.8.2 in c:\\users\\alli ajagbe\\appdata\\local\\programs\\python\\python311\\lib\\site-packages (from pandas>=1.0->statsmodels) (2.8.2)\n",
      "Requirement already satisfied: pytz>=2020.1 in c:\\users\\alli ajagbe\\appdata\\local\\programs\\python\\python311\\lib\\site-packages (from pandas>=1.0->statsmodels) (2023.3)\n",
      "Requirement already satisfied: tzdata>=2022.1 in c:\\users\\alli ajagbe\\appdata\\local\\programs\\python\\python311\\lib\\site-packages (from pandas>=1.0->statsmodels) (2023.3)\n",
      "Requirement already satisfied: six in c:\\users\\alli ajagbe\\appdata\\local\\programs\\python\\python311\\lib\\site-packages (from patsy>=0.5.2->statsmodels) (1.16.0)\n"
     ]
    }
   ],
   "source": [
    "%pip install statsmodels"
   ]
  },
  {
   "cell_type": "code",
   "execution_count": 21,
   "metadata": {},
   "outputs": [],
   "source": [
    "# using a poisson regression model\n",
    "import statsmodels.api as sm\n",
    "from statsmodels.formula.api import glm"
   ]
  },
  {
   "cell_type": "code",
   "execution_count": 22,
   "metadata": {},
   "outputs": [
    {
     "name": "stdout",
     "output_type": "stream",
     "text": [
      "                 Generalized Linear Model Regression Results                  \n",
      "==============================================================================\n",
      "Dep. Variable:               footfall   No. Observations:                  736\n",
      "Model:                            GLM   Df Residuals:                      721\n",
      "Model Family:                 Poisson   Df Model:                           14\n",
      "Link Function:                    Log   Scale:                          1.0000\n",
      "Method:                          IRLS   Log-Likelihood:                -10555.\n",
      "Date:                Thu, 14 Dec 2023   Deviance:                       16243.\n",
      "Time:                        18:26:05   Pearson chi2:                 1.38e+04\n",
      "No. Iterations:                     5   Pseudo R-squ. (CS):              1.000\n",
      "Covariance Type:            nonrobust                                         \n",
      "===============================================================================================\n",
      "                                  coef    std err          z      P>|z|      [0.025      0.975]\n",
      "-----------------------------------------------------------------------------------------------\n",
      "Intercept                       3.0261      0.016    195.089      0.000       2.996       3.056\n",
      "day_Monday[T.True]              0.5556      0.012     46.237      0.000       0.532       0.579\n",
      "day_Tuesday[T.True]             0.4698      0.013     36.033      0.000       0.444       0.495\n",
      "day_Wednesday[T.True]           0.4610      0.033     13.881      0.000       0.396       0.526\n",
      "day_Thursday[T.True]            0.4799      0.013     36.683      0.000       0.454       0.506\n",
      "day_Friday[T.True]              0.4597      0.033     13.839      0.000       0.395       0.525\n",
      "day_Saturday[T.True]            0.3556      0.013     26.699      0.000       0.329       0.382\n",
      "day_Sunday[T.True]              0.2444      0.013     18.180      0.000       0.218       0.271\n",
      "meal_type_Breakfast[T.True]     0.0620      0.009      7.090      0.000       0.045       0.079\n",
      "meal_type_Dinner[T.True]        0.1963      0.008     23.655      0.000       0.180       0.213\n",
      "meal_type_Lunch[T.True]         0.1259      0.010     13.048      0.000       0.107       0.145\n",
      "bogo                           -0.0628      0.043     -1.451      0.147      -0.148       0.022\n",
      "paneer                          0.1376      0.012     11.258      0.000       0.114       0.162\n",
      "guest                          -0.6067      0.017    -35.231      0.000      -0.640      -0.573\n",
      "test                           -0.0909      0.015     -6.120      0.000      -0.120      -0.062\n",
      "max_possible_footfall           0.0053   2.98e-05    176.736      0.000       0.005       0.005\n",
      "===============================================================================================\n"
     ]
    }
   ],
   "source": [
    "# creating the poissson regression model\n",
    "\n",
    "model = glm(formula='footfall ~ day_Monday + day_Tuesday + day_Wednesday + bogo + paneer + day_Thursday + day_Friday + guest + test + day_Saturday + max_possible_footfall + day_Sunday + meal_type_Breakfast + meal_type_Dinner + meal_type_Lunch', data=data3, family=sm.families.Poisson()).fit()\n",
    "\n",
    "# printing the summary of the model\n",
    "print(model.summary())"
   ]
  },
  {
   "cell_type": "code",
   "execution_count": 23,
   "metadata": {},
   "outputs": [
    {
     "name": "stdout",
     "output_type": "stream",
     "text": [
      "Mean Squared Error:  2708.7489410394046\n",
      "Mean Absolute Error:  38.452055538922664\n"
     ]
    }
   ],
   "source": [
    "# printing the mean squared error\n",
    "mse = mean_squared_error(y_test, model.predict(X_test))\n",
    "print('Mean Squared Error: ', mse)\n",
    "\n",
    "# printing the mean absolute error\n",
    "mae = mean_absolute_error(y_test, model.predict(X_test))\n",
    "print('Mean Absolute Error: ', mae)"
   ]
  },
  {
   "cell_type": "code",
   "execution_count": 24,
   "metadata": {},
   "outputs": [
    {
     "name": "stdout",
     "output_type": "stream",
     "text": [
      "Root Mean Squared Error:  52.04564286315815\n"
     ]
    }
   ],
   "source": [
    "print('Root Mean Squared Error: ', np.sqrt(mse))"
   ]
  },
  {
   "cell_type": "code",
   "execution_count": 40,
   "metadata": {},
   "outputs": [],
   "source": [
    "# changing the data type of the columns to bool\n",
    "data3['bogo'] = data3['bogo'].astype('bool')\n",
    "data3['paneer'] = data3['paneer'].astype('bool')\n",
    "data3['guest'] = data3['guest'].astype('bool')\n",
    "data3['test'] = data3['test'].astype('bool')\n",
    "data3['meal_type_Breakfast'] = data3['meal_type_Breakfast'].astype('bool')\n",
    "data3['meal_type_Dinner'] = data3['meal_type_Dinner'].astype('bool')\n",
    "data3['meal_type_Lunch'] = data3['meal_type_Lunch'].astype('bool')"
   ]
  },
  {
   "cell_type": "code",
   "execution_count": 41,
   "metadata": {},
   "outputs": [
    {
     "name": "stdout",
     "output_type": "stream",
     "text": [
      "                 Generalized Linear Model Regression Results                  \n",
      "==============================================================================\n",
      "Dep. Variable:               footfall   No. Observations:                  736\n",
      "Model:                            GLM   Df Residuals:                      725\n",
      "Model Family:                 Poisson   Df Model:                           10\n",
      "Link Function:                    Log   Scale:                          1.0000\n",
      "Method:                          IRLS   Log-Likelihood:                -10593.\n",
      "Date:                Thu, 14 Dec 2023   Deviance:                       16319.\n",
      "Time:                        20:35:06   Pearson chi2:                 1.39e+04\n",
      "No. Iterations:                     5   Pseudo R-squ. (CS):              1.000\n",
      "Covariance Type:            nonrobust                                         \n",
      "===============================================================================================\n",
      "                                  coef    std err          z      P>|z|      [0.025      0.975]\n",
      "-----------------------------------------------------------------------------------------------\n",
      "Intercept                       3.5310      0.012    287.872      0.000       3.507       3.555\n",
      "bogo[T.True]                   -0.1122      0.007    -15.668      0.000      -0.126      -0.098\n",
      "paneer[T.True]                  0.1791      0.011     16.005      0.000       0.157       0.201\n",
      "day_Sunday[T.True]             -0.2535      0.009    -27.200      0.000      -0.272      -0.235\n",
      "day_Saturday[T.True]           -0.1428      0.009    -15.701      0.000      -0.161      -0.125\n",
      "guest[T.True]                  -0.5996      0.017    -34.862      0.000      -0.633      -0.566\n",
      "test[T.True]                   -0.0908      0.015     -6.113      0.000      -0.120      -0.062\n",
      "meal_type_Breakfast[T.True]     0.0619      0.009      7.082      0.000       0.045       0.079\n",
      "meal_type_Dinner[T.True]        0.1962      0.008     23.643      0.000       0.180       0.212\n",
      "meal_type_Lunch[T.True]         0.1078      0.009     11.481      0.000       0.089       0.126\n",
      "max_possible_footfall           0.0053   2.97e-05    176.939      0.000       0.005       0.005\n",
      "===============================================================================================\n"
     ]
    }
   ],
   "source": [
    "model2 = glm(formula='footfall ~ bogo + paneer + day_Sunday + day_Saturday + guest + test + max_possible_footfall + meal_type_Breakfast + meal_type_Dinner + meal_type_Lunch', data=data3, family=sm.families.Poisson()).fit()\n",
    "\n",
    "print(model2.summary())"
   ]
  },
  {
   "cell_type": "code",
   "execution_count": 42,
   "metadata": {},
   "outputs": [
    {
     "name": "stdout",
     "output_type": "stream",
     "text": [
      "Mean Squared Error:  2636.3094886864856\n",
      "Mean Absolute Error:  38.069626073756616\n"
     ]
    }
   ],
   "source": [
    "# printing the mean squared error\n",
    "mse2 = mean_squared_error(y_test, model2.predict(X_test))\n",
    "print('Mean Squared Error: ', mse2)\n",
    "\n",
    "# printing the mean absolute error\n",
    "mae2 = mean_absolute_error(y_test, model2.predict(X_test))\n",
    "print('Mean Absolute Error: ', mae2)"
   ]
  },
  {
   "cell_type": "code",
   "execution_count": 27,
   "metadata": {},
   "outputs": [
    {
     "name": "stdout",
     "output_type": "stream",
     "text": [
      "Root Mean Squared Error:  52.04564286315815\n"
     ]
    }
   ],
   "source": [
    "print('Root Mean Squared Error: ', np.sqrt(mse))"
   ]
  },
  {
   "cell_type": "code",
   "execution_count": 28,
   "metadata": {},
   "outputs": [
    {
     "data": {
      "image/png": "[encoded data removed]",
      "text/plain": [
       "<Figure size 640x480 with 1 Axes>"
      ]
     },
     "metadata": {},
     "output_type": "display_data"
    }
   ],
   "source": [
    "# using the coefficients of the model to plot the regression line\n",
    "predictions = model2.predict(X_test)\n",
    "plt.scatter(y_test, predictions)\n",
    "plt.plot([y_test.min(), y_test.max()], [y_test.min(), y_test.max()], 'r--')\n",
    "plt.xlabel('Y Test')\n",
    "plt.ylabel('Predicted Y')\n",
    "plt.show()"
   ]
  },
  {
   "cell_type": "code",
   "execution_count": 29,
   "metadata": {},
   "outputs": [
    {
     "name": "stderr",
     "output_type": "stream",
     "text": [
      "C:\\Users\\Alli Ajagbe\\AppData\\Local\\Temp\\ipykernel_13748\\232137980.py:2: UserWarning: \n",
      "\n",
      "`distplot` is a deprecated function and will be removed in seaborn v0.14.0.\n",
      "\n",
      "Please adapt your code to use either `displot` (a figure-level function with\n",
      "similar flexibility) or `histplot` (an axes-level function for histograms).\n",
      "\n",
      "For a guide to updating your code to use the new functions, please see\n",
      "https://gist.github.com/mwaskom/de44147ed2974457ad6372750bbe5751\n",
      "\n",
      "  sns.distplot((y_test - predictions), bins=50)\n"
     ]
    },
    {
     "data": {
      "image/png": "[encoded data removed]",
      "text/plain": [
       "<Figure size 640x480 with 1 Axes>"
      ]
     },
     "metadata": {},
     "output_type": "display_data"
    }
   ],
   "source": [
    "# plotting the residuals\n",
    "sns.distplot((y_test - predictions), bins=50)\n",
    "plt.show()"
   ]
  },
  {
   "cell_type": "code",
   "execution_count": 30,
   "metadata": {},
   "outputs": [
    {
     "data": {
      "text/html": [
       "<div>\n",
       "<style scoped>\n",
       "    .dataframe tbody tr th:only-of-type {\n",
       "        vertical-align: middle;\n",
       "    }\n",
       "\n",
       "    .dataframe tbody tr th {\n",
       "        vertical-align: top;\n",
       "    }\n",
       "\n",
       "    .dataframe thead th {\n",
       "        text-align: right;\n",
       "    }\n",
       "</style>\n",
       "<table border=\"1\" class=\"dataframe\">\n",
       "  <thead>\n",
       "    <tr style=\"text-align: right;\">\n",
       "      <th></th>\n",
       "      <th>bogo</th>\n",
       "      <th>paneer</th>\n",
       "      <th>guest</th>\n",
       "      <th>test</th>\n",
       "      <th>footfall</th>\n",
       "      <th>max_possible_footfall</th>\n",
       "      <th>day_Friday</th>\n",
       "      <th>day_Monday</th>\n",
       "      <th>day_Saturday</th>\n",
       "      <th>day_Sunday</th>\n",
       "      <th>day_Thursday</th>\n",
       "      <th>day_Tuesday</th>\n",
       "      <th>day_Wednesday</th>\n",
       "      <th>meal_type_Breakfast</th>\n",
       "      <th>meal_type_Dinner</th>\n",
       "      <th>meal_type_Lunch</th>\n",
       "      <th>meal_type_Snacks</th>\n",
       "      <th>predicted_footfall</th>\n",
       "      <th>difference</th>\n",
       "    </tr>\n",
       "  </thead>\n",
       "  <tbody>\n",
       "    <tr>\n",
       "      <th>0</th>\n",
       "      <td>0</td>\n",
       "      <td>0</td>\n",
       "      <td>0</td>\n",
       "      <td>0</td>\n",
       "      <td>48</td>\n",
       "      <td>89</td>\n",
       "      <td>False</td>\n",
       "      <td>False</td>\n",
       "      <td>True</td>\n",
       "      <td>False</td>\n",
       "      <td>False</td>\n",
       "      <td>False</td>\n",
       "      <td>False</td>\n",
       "      <td>False</td>\n",
       "      <td>True</td>\n",
       "      <td>False</td>\n",
       "      <td>False</td>\n",
       "      <td>57.549715</td>\n",
       "      <td>9.549715</td>\n",
       "    </tr>\n",
       "    <tr>\n",
       "      <th>3</th>\n",
       "      <td>0</td>\n",
       "      <td>0</td>\n",
       "      <td>0</td>\n",
       "      <td>0</td>\n",
       "      <td>80</td>\n",
       "      <td>120</td>\n",
       "      <td>False</td>\n",
       "      <td>False</td>\n",
       "      <td>False</td>\n",
       "      <td>False</td>\n",
       "      <td>True</td>\n",
       "      <td>False</td>\n",
       "      <td>False</td>\n",
       "      <td>False</td>\n",
       "      <td>True</td>\n",
       "      <td>False</td>\n",
       "      <td>False</td>\n",
       "      <td>78.144093</td>\n",
       "      <td>1.855907</td>\n",
       "    </tr>\n",
       "    <tr>\n",
       "      <th>4</th>\n",
       "      <td>0</td>\n",
       "      <td>0</td>\n",
       "      <td>0</td>\n",
       "      <td>0</td>\n",
       "      <td>52</td>\n",
       "      <td>100</td>\n",
       "      <td>False</td>\n",
       "      <td>True</td>\n",
       "      <td>False</td>\n",
       "      <td>False</td>\n",
       "      <td>False</td>\n",
       "      <td>False</td>\n",
       "      <td>False</td>\n",
       "      <td>False</td>\n",
       "      <td>True</td>\n",
       "      <td>False</td>\n",
       "      <td>False</td>\n",
       "      <td>70.338732</td>\n",
       "      <td>18.338732</td>\n",
       "    </tr>\n",
       "    <tr>\n",
       "      <th>5</th>\n",
       "      <td>1</td>\n",
       "      <td>0</td>\n",
       "      <td>0</td>\n",
       "      <td>0</td>\n",
       "      <td>58</td>\n",
       "      <td>70</td>\n",
       "      <td>False</td>\n",
       "      <td>False</td>\n",
       "      <td>False</td>\n",
       "      <td>False</td>\n",
       "      <td>False</td>\n",
       "      <td>False</td>\n",
       "      <td>True</td>\n",
       "      <td>True</td>\n",
       "      <td>False</td>\n",
       "      <td>False</td>\n",
       "      <td>False</td>\n",
       "      <td>46.947277</td>\n",
       "      <td>11.052723</td>\n",
       "    </tr>\n",
       "    <tr>\n",
       "      <th>6</th>\n",
       "      <td>0</td>\n",
       "      <td>0</td>\n",
       "      <td>0</td>\n",
       "      <td>0</td>\n",
       "      <td>37</td>\n",
       "      <td>124</td>\n",
       "      <td>False</td>\n",
       "      <td>False</td>\n",
       "      <td>False</td>\n",
       "      <td>True</td>\n",
       "      <td>False</td>\n",
       "      <td>False</td>\n",
       "      <td>False</td>\n",
       "      <td>False</td>\n",
       "      <td>False</td>\n",
       "      <td>True</td>\n",
       "      <td>False</td>\n",
       "      <td>56.693360</td>\n",
       "      <td>19.693360</td>\n",
       "    </tr>\n",
       "    <tr>\n",
       "      <th>...</th>\n",
       "      <td>...</td>\n",
       "      <td>...</td>\n",
       "      <td>...</td>\n",
       "      <td>...</td>\n",
       "      <td>...</td>\n",
       "      <td>...</td>\n",
       "      <td>...</td>\n",
       "      <td>...</td>\n",
       "      <td>...</td>\n",
       "      <td>...</td>\n",
       "      <td>...</td>\n",
       "      <td>...</td>\n",
       "      <td>...</td>\n",
       "      <td>...</td>\n",
       "      <td>...</td>\n",
       "      <td>...</td>\n",
       "      <td>...</td>\n",
       "      <td>...</td>\n",
       "      <td>...</td>\n",
       "    </tr>\n",
       "    <tr>\n",
       "      <th>729</th>\n",
       "      <td>1</td>\n",
       "      <td>0</td>\n",
       "      <td>0</td>\n",
       "      <td>0</td>\n",
       "      <td>179</td>\n",
       "      <td>355</td>\n",
       "      <td>True</td>\n",
       "      <td>False</td>\n",
       "      <td>False</td>\n",
       "      <td>False</td>\n",
       "      <td>False</td>\n",
       "      <td>False</td>\n",
       "      <td>False</td>\n",
       "      <td>True</td>\n",
       "      <td>False</td>\n",
       "      <td>False</td>\n",
       "      <td>False</td>\n",
       "      <td>210.309318</td>\n",
       "      <td>31.309318</td>\n",
       "    </tr>\n",
       "    <tr>\n",
       "      <th>730</th>\n",
       "      <td>0</td>\n",
       "      <td>0</td>\n",
       "      <td>0</td>\n",
       "      <td>0</td>\n",
       "      <td>377</td>\n",
       "      <td>417</td>\n",
       "      <td>False</td>\n",
       "      <td>False</td>\n",
       "      <td>False</td>\n",
       "      <td>False</td>\n",
       "      <td>True</td>\n",
       "      <td>False</td>\n",
       "      <td>False</td>\n",
       "      <td>False</td>\n",
       "      <td>False</td>\n",
       "      <td>True</td>\n",
       "      <td>False</td>\n",
       "      <td>341.330314</td>\n",
       "      <td>35.669686</td>\n",
       "    </tr>\n",
       "    <tr>\n",
       "      <th>731</th>\n",
       "      <td>1</td>\n",
       "      <td>0</td>\n",
       "      <td>0</td>\n",
       "      <td>0</td>\n",
       "      <td>196</td>\n",
       "      <td>355</td>\n",
       "      <td>False</td>\n",
       "      <td>False</td>\n",
       "      <td>False</td>\n",
       "      <td>False</td>\n",
       "      <td>False</td>\n",
       "      <td>False</td>\n",
       "      <td>True</td>\n",
       "      <td>True</td>\n",
       "      <td>False</td>\n",
       "      <td>False</td>\n",
       "      <td>False</td>\n",
       "      <td>210.309318</td>\n",
       "      <td>14.309318</td>\n",
       "    </tr>\n",
       "    <tr>\n",
       "      <th>732</th>\n",
       "      <td>0</td>\n",
       "      <td>0</td>\n",
       "      <td>0</td>\n",
       "      <td>0</td>\n",
       "      <td>129</td>\n",
       "      <td>225</td>\n",
       "      <td>False</td>\n",
       "      <td>False</td>\n",
       "      <td>False</td>\n",
       "      <td>False</td>\n",
       "      <td>False</td>\n",
       "      <td>True</td>\n",
       "      <td>False</td>\n",
       "      <td>False</td>\n",
       "      <td>True</td>\n",
       "      <td>False</td>\n",
       "      <td>False</td>\n",
       "      <td>135.778082</td>\n",
       "      <td>6.778082</td>\n",
       "    </tr>\n",
       "    <tr>\n",
       "      <th>735</th>\n",
       "      <td>0</td>\n",
       "      <td>0</td>\n",
       "      <td>0</td>\n",
       "      <td>0</td>\n",
       "      <td>80</td>\n",
       "      <td>100</td>\n",
       "      <td>False</td>\n",
       "      <td>True</td>\n",
       "      <td>False</td>\n",
       "      <td>False</td>\n",
       "      <td>False</td>\n",
       "      <td>False</td>\n",
       "      <td>False</td>\n",
       "      <td>False</td>\n",
       "      <td>True</td>\n",
       "      <td>False</td>\n",
       "      <td>False</td>\n",
       "      <td>70.338732</td>\n",
       "      <td>9.661268</td>\n",
       "    </tr>\n",
       "  </tbody>\n",
       "</table>\n",
       "<p>456 rows × 19 columns</p>\n",
       "</div>"
      ],
      "text/plain": [
       "     bogo  paneer  guest  test  footfall  max_possible_footfall  day_Friday  \\\n",
       "0       0       0      0     0        48                     89       False   \n",
       "3       0       0      0     0        80                    120       False   \n",
       "4       0       0      0     0        52                    100       False   \n",
       "5       1       0      0     0        58                     70       False   \n",
       "6       0       0      0     0        37                    124       False   \n",
       "..    ...     ...    ...   ...       ...                    ...         ...   \n",
       "729     1       0      0     0       179                    355        True   \n",
       "730     0       0      0     0       377                    417       False   \n",
       "731     1       0      0     0       196                    355       False   \n",
       "732     0       0      0     0       129                    225       False   \n",
       "735     0       0      0     0        80                    100       False   \n",
       "\n",
       "     day_Monday  day_Saturday  day_Sunday  day_Thursday  day_Tuesday  \\\n",
       "0         False          True       False         False        False   \n",
       "3         False         False       False          True        False   \n",
       "4          True         False       False         False        False   \n",
       "5         False         False       False         False        False   \n",
       "6         False         False        True         False        False   \n",
       "..          ...           ...         ...           ...          ...   \n",
       "729       False         False       False         False        False   \n",
       "730       False         False       False          True        False   \n",
       "731       False         False       False         False        False   \n",
       "732       False         False       False         False         True   \n",
       "735        True         False       False         False        False   \n",
       "\n",
       "     day_Wednesday  meal_type_Breakfast  meal_type_Dinner  meal_type_Lunch  \\\n",
       "0            False                False              True            False   \n",
       "3            False                False              True            False   \n",
       "4            False                False              True            False   \n",
       "5             True                 True             False            False   \n",
       "6            False                False             False             True   \n",
       "..             ...                  ...               ...              ...   \n",
       "729          False                 True             False            False   \n",
       "730          False                False             False             True   \n",
       "731           True                 True             False            False   \n",
       "732          False                False              True            False   \n",
       "735          False                False              True            False   \n",
       "\n",
       "     meal_type_Snacks  predicted_footfall  difference  \n",
       "0               False           57.549715    9.549715  \n",
       "3               False           78.144093    1.855907  \n",
       "4               False           70.338732   18.338732  \n",
       "5               False           46.947277   11.052723  \n",
       "6               False           56.693360   19.693360  \n",
       "..                ...                 ...         ...  \n",
       "729             False          210.309318   31.309318  \n",
       "730             False          341.330314   35.669686  \n",
       "731             False          210.309318   14.309318  \n",
       "732             False          135.778082    6.778082  \n",
       "735             False           70.338732    9.661268  \n",
       "\n",
       "[456 rows x 19 columns]"
      ]
     },
     "execution_count": 30,
     "metadata": {},
     "output_type": "execute_result"
    }
   ],
   "source": [
    "# getting the days where the predicted footfall was off by more than 38\n",
    "data3['predicted_footfall'] = model2.predict(X)\n",
    "data3['difference'] = data3['predicted_footfall'] - data3['footfall']\n",
    "data3['difference'] = data3['difference'].abs()\n",
    "data3[data3['difference'] < 38]"
   ]
  },
  {
   "cell_type": "code",
   "execution_count": 31,
   "metadata": {},
   "outputs": [
    {
     "data": {
      "text/plain": [
       "61.95652173913043"
      ]
     },
     "execution_count": 31,
     "metadata": {},
     "output_type": "execute_result"
    }
   ],
   "source": [
    "(len(data3[data3['difference'] < 38]) / len(data3)) * 100"
   ]
  },
  {
   "cell_type": "code",
   "execution_count": 32,
   "metadata": {},
   "outputs": [],
   "source": [
    "# getting the impact of the variables on the footfall\n",
    "coefficients = pd.DataFrame(model2.params, X.columns)\n",
    "coefficients.columns = ['Coefficients']"
   ]
  },
  {
   "cell_type": "code",
   "execution_count": 43,
   "metadata": {},
   "outputs": [
    {
     "data": {
      "text/plain": [
       "['poissonreg.pkl']"
      ]
     },
     "execution_count": 43,
     "metadata": {},
     "output_type": "execute_result"
    }
   ],
   "source": [
    "# saving the model to a pickle file\n",
    "import joblib\n",
    "joblib.dump(model2, 'poissonreg.pkl')"
   ]
  },
  {
   "cell_type": "code",
   "execution_count": 44,
   "metadata": {},
   "outputs": [
    {
     "data": {
      "text/plain": [
       "bogo                        bool\n",
       "paneer                      bool\n",
       "guest                       bool\n",
       "test                        bool\n",
       "footfall                   int64\n",
       "max_possible_footfall      int64\n",
       "day_Friday                  bool\n",
       "day_Monday                  bool\n",
       "day_Saturday                bool\n",
       "day_Sunday                  bool\n",
       "day_Thursday                bool\n",
       "day_Tuesday                 bool\n",
       "day_Wednesday               bool\n",
       "meal_type_Breakfast         bool\n",
       "meal_type_Dinner            bool\n",
       "meal_type_Lunch             bool\n",
       "meal_type_Snacks            bool\n",
       "predicted_footfall       float64\n",
       "difference               float64\n",
       "dtype: object"
      ]
     },
     "execution_count": 44,
     "metadata": {},
     "output_type": "execute_result"
    }
   ],
   "source": [
    "# printing the datatypes of the columns\n",
    "data3.dtypes"
   ]
  },
  {
   "cell_type": "code",
   "execution_count": 46,
   "metadata": {},
   "outputs": [
    {
     "data": {
      "text/plain": [
       "41.39607491793259"
      ]
     },
     "execution_count": 46,
     "metadata": {},
     "output_type": "execute_result"
    }
   ],
   "source": [
    "# mean mae for the model\n",
    "abs(data3['difference']).mean()"
   ]
  },
  {
   "cell_type": "code",
   "execution_count": null,
   "metadata": {},
   "outputs": [],
   "source": []
  }
 ],
 "metadata": {
  "kernelspec": {
   "display_name": "Python 3",
   "language": "python",
   "name": "python3"
  },
  "language_info": {
   "codemirror_mode": {
    "name": "ipython",
    "version": 3
   },
   "file_extension": ".py",
   "mimetype": "text/x-python",
   "name": "python",
   "nbconvert_exporter": "python",
   "pygments_lexer": "ipython3",
   "version": "3.11.4"
  }
 },
 "nbformat": 4,
 "nbformat_minor": 2
}
