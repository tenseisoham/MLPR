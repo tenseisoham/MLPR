{
 "cells": [
  {
   "cell_type": "code",
   "execution_count": 2,
   "metadata": {},
   "outputs": [],
   "source": [
    "import pandas as pd "
   ]
  },
  {
   "cell_type": "code",
   "execution_count": 23,
   "metadata": {},
   "outputs": [],
   "source": [
    "df = pd.read_csv('footfall_735.csv')\n",
    "df2 = pd.read_csv('merged_menu.csv')"
   ]
  },
  {
   "cell_type": "code",
   "execution_count": null,
   "metadata": {},
   "outputs": [],
   "source": [
    "merged_df = pd.merge(df, df2, on='Date', how='left')\n",
    "merged_df"
   ]
  },
  {
   "cell_type": "code",
   "execution_count": 26,
   "metadata": {},
   "outputs": [],
   "source": [
    "for meal_type in ['Breakfast', 'Lunch', 'Snacks', 'Dinner']:\n",
    "    selected_column = f\"{meal_type.lower()}_merge\"\n",
    "    \n",
    "    # Keep only the selected column and leave other columns unchanged\n",
    "    for column in merged_df.columns:\n",
    "        if 'merge' in column:\n",
    "            if column == selected_column:\n",
    "                merged_df.loc[merged_df['meal_type'] != meal_type, column] = None\n",
    "            else:\n",
    "                merged_df.loc[merged_df['meal_type'] != meal_type, column] = merged_df[column]\n",
    "merged_df\n",
    "\n",
    "merged_df.to_csv('menuxfootfall.csv')"
   ]
  }
 ],
 "metadata": {
  "kernelspec": {
   "display_name": "Python 3",
   "language": "python",
   "name": "python3"
  },
  "language_info": {
   "codemirror_mode": {
    "name": "ipython",
    "version": 3
   },
   "file_extension": ".py",
   "mimetype": "text/x-python",
   "name": "python",
   "nbconvert_exporter": "python",
   "pygments_lexer": "ipython3",
   "version": "3.9.7"
  }
 },
 "nbformat": 4,
 "nbformat_minor": 2
}
