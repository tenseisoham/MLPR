{
 "cells": [
  {
   "cell_type": "code",
   "execution_count": 2,
   "metadata": {},
   "outputs": [],
   "source": [
    "import pandas as pd\n",
    "import matplotlib.pyplot as plt \n"
   ]
  },
  {
   "cell_type": "code",
   "execution_count": 9,
   "metadata": {},
   "outputs": [],
   "source": [
    "def restructure_df(df_date):\n",
    "    \n",
    "    df_rotate = df_date.T\n",
    "    df_rotate.columns = df_rotate.iloc[0]\n",
    "    df_rotate = df_rotate.iloc[1:]\n",
    "    df_rotate.rename(columns={'Breakfast': 'date_day'}, inplace=True)\n",
    "    \n",
    "    df_rotate[['day', 'data']] = df_rotate['date_day'].str.split('-', expand=True)\n",
    "    condensed_df = df_rotate.drop(columns=['date_day'])\n",
    "\n",
    "    pattern = r'(\\w+) (\\d+)'\n",
    "    condensed_df[['Month', 'Day']] = condensed_df['data'].str.extract(pattern)\n",
    "\n",
    "    month_mapping = {\n",
    "        'January': '01',\n",
    "        'February': '02',\n",
    "        'March': '03',\n",
    "        'April': '04',\n",
    "        'May': '05',\n",
    "        'June': '06',\n",
    "        'July': '07',\n",
    "        'August': '08',\n",
    "        'September': '09',\n",
    "        'October': '10',\n",
    "        'November': '11',\n",
    "        'December': '12'\n",
    "    }\n",
    "\n",
    "    condensed_df['Month'] = condensed_df['Month'].map(month_mapping)\n",
    "    condensed_df['Year'] = '2023'\n",
    "    condensed_df['Date'] = condensed_df['Year'] + '-' + condensed_df['Month'] + '-' + condensed_df['Day']\n",
    "    condensed_df['Date'] = pd.to_datetime(condensed_df['Date'], format='%Y-%m-%d') \n",
    "    condensed_df.drop(columns=['Year', 'Month', 'Lunch', 'Dinner'], inplace=True)\n",
    "    condensed_df.index = [x for x in range(len(condensed_df))]\n",
    "\n",
    "    last_column = condensed_df.pop('Date')\n",
    "    new_df = pd.concat([last_column, condensed_df], axis=1)\n",
    "    \n",
    "    return new_df"
   ]
  },
  {
   "cell_type": "code",
   "execution_count": 11,
   "metadata": {},
   "outputs": [
    {
     "data": {
      "text/plain": [
       "'for file_name, dataframe in menu_dataframes.items():\\n    print(f\"Dataframe from file: {file_name}\")\\n    print(dataframe)\\n\\nfor key, df in menu_dataframes.items():\\n    if \\'Date\\' in df.columns:\\n        df.set_index(\\'Date\\', inplace=True)\\n    else:\\n        continue   \\ncombined_menu_df = pd.concat(menu_dataframes.values(), ignore_index=True)'"
      ]
     },
     "execution_count": 11,
     "metadata": {},
     "output_type": "execute_result"
    }
   ],
   "source": [
    "import pandas as pd\n",
    "\n",
    "# Define a list of file names\n",
    "import pandas as pd\n",
    "\n",
    "# Assuming you have defined the 'restructure_df' function\n",
    "\n",
    "file_names = [\n",
    "    '24th July  Menu.xlsx',\n",
    "    'Aug 7 Menu with calories.xlsx',\n",
    "    'Copy of Plaksha menu from 28 August.xlsx',\n",
    "    'Menu from 26th June.xlsx',\n",
    "    'Menu July 3 (with calories).xlsx',  \n",
    "    'Menu July 9.xlsx',\n",
    "    'menu week 19june to 25june 2023 (2).xlsx',\n",
    "    'Plaksha menu August14 with calorie-count, 2023..xlsx',\n",
    "    'Plaksha menu from 4 Sept with calorie count.xlsx',\n",
    "    'Plaksha MEnu from 8th May.xlsx',\n",
    "    'Plaksha menu from 15May.xlsx', \n",
    "    'Plaksha menu from 17 july 2023 (1).xlsx', \n",
    "    'Plaksha Menu from May 1.xlsx', \n",
    "    'Plaksha menu starting from Sept 11, 2023..xlsx',\n",
    "    'Plaksha menu starting from Sept 18, 2023..xlsx'\n",
    "]\n",
    "\n",
    "menu_dataframes = {}\n",
    "for file_name in file_names:\n",
    "    menu_df = pd.read_excel(file_name)\n",
    "    restructured_df = restructure_df(menu_df)  \n",
    "    menu_dataframes[file_name] = restructured_df\n",
    "\n",
    "# Save the dataframes as CSV files\n",
    "for file_name, dataframe in menu_dataframes.items():\n",
    "    csv_file_name = file_name.replace('.xlsx', '.csv')  # Change file extension to CSV\n",
    "    dataframe.to_csv(csv_file_name, index=False)\n",
    "\n",
    "\n",
    "'''for file_name, dataframe in menu_dataframes.items():\n",
    "    print(f\"Dataframe from file: {file_name}\")\n",
    "    print(dataframe)\n",
    "\n",
    "for key, df in menu_dataframes.items():\n",
    "    if 'Date' in df.columns:\n",
    "        df.set_index('Date', inplace=True)\n",
    "    else:\n",
    "        continue   \n",
    "combined_menu_df = pd.concat(menu_dataframes.values(), ignore_index=True)'''\n",
    "\n",
    "\n"
   ]
  },
  {
   "cell_type": "code",
   "execution_count": 7,
   "metadata": {},
   "outputs": [],
   "source": []
  },
  {
   "cell_type": "code",
   "execution_count": 30,
   "metadata": {},
   "outputs": [],
   "source": [
    "import pandas as pd\n",
    "from dateutil import parser\n",
    "\n",
    "file_names = [\n",
    "    '24th July  Menu.csv',\n",
    "    'Aug 7 Menu with calories.csv',\n",
    "    'Copy of Plaksha menu from 28 August.csv',\n",
    "    'Menu from 26th June.csv',\n",
    "    'Menu July 3 (with calories).csv',  \n",
    "    'Menu July 9.csv',\n",
    "    'menu week 19june to 25june 2023 (2).csv',\n",
    "    'Plaksha menu August14 with calorie-count, 2023..csv',\n",
    "    'Plaksha menu from 4 Sept with calorie count.csv',\n",
    "    'Plaksha MEnu from 8th May.csv',\n",
    "    'Plaksha menu from 15May.csv', \n",
    "    'Plaksha menu from 17 july 2023 (1).csv', \n",
    "    'Plaksha Menu from May 1.csv', \n",
    "    'Plaksha menu starting from Sept 11, 2023..csv',\n",
    "    'Plaksha menu starting from Sept 18, 2023..csv'\n",
    "]\n",
    "\n",
    "merged_data = pd.DataFrame()\n",
    "for file_name in file_names:\n",
    "    df = pd.read_csv(file_name)\n",
    "    df['Date'] = df['Date'].apply(lambda x: parser.parse(x))\n",
    "    merged_data = pd.concat([merged_data,df], ignore_index=True)"
   ]
  },
  {
   "cell_type": "code",
   "execution_count": null,
   "metadata": {},
   "outputs": [],
   "source": [
    "\n",
    "merged_data.index = [x for x in range(len(merged_data))]\n",
    "print(merged_data)\n",
    "merged_data.to_csv('menu_final.csv')"
   ]
  },
  {
   "cell_type": "code",
   "execution_count": 42,
   "metadata": {},
   "outputs": [],
   "source": [
    "new_dataset = pd.read_csv('merged_file.csv')\n",
    "new_dataset['Date'] = pd.to_datetime(new_dataset['Date'], format='%d-%m-%Y %H:%M', errors='coerce')\n",
    "dataset = new_dataset.drop(index=range(92, 99))\n",
    "concat_dataset = pd.merge(new_dataset, merged_data, on='Date')\n",
    "\n",
    "concat_dataset.to_csv('horrid.csv')"
   ]
  },
  {
   "cell_type": "code",
   "execution_count": null,
   "metadata": {},
   "outputs": [],
   "source": [
    "import pandas as pd\n",
    "import matplotlib.pyplot as plt\n",
    "\n",
    "# Load your dataset\n",
    "dataset = pd.read_csv('horrid.csv')\n",
    "summary_stats = dataset.describe()\n",
    "\n",
    "# Data Visualization\n",
    "plt.figure(figsize=(12, 6))\n",
    "\n",
    "# Histograms for each meal\n",
    "meal_columns = ['B.FAST', 'LUNCH','Snacks']\n",
    "for meal in meal_columns:\n",
    "    plt.subplot(2, 2, meal_columns.index(meal) + 1)\n",
    "    plt.hist(dataset[meal], bins=20, edgecolor='k')\n",
    "    plt.title(f'{meal} Footfall Distribution')\n",
    "    plt.xlabel('Footfall')\n",
    "    plt.ylabel('Frequency')\n",
    "\n",
    "plt.tight_layout()\n",
    "plt.show()\n",
    "\n",
    "# Correlation Analysis\n",
    "correlation_matrix = dataset[meal_columns].corr()\n",
    "\n",
    "# Box Plots for each meal\n",
    "dataset[meal_columns].boxplot()\n",
    "plt.title('Box Plots for Meal Footfall')\n",
    "plt.ylabel('Footfall')\n",
    "plt.show()\n",
    "\n",
    "# Outlier Detection (assuming 'Breakfast' as an example)\n",
    "q1 = dataset['LUNCH'].quantile(0.25)\n",
    "q3 = dataset['LUNCH'].quantile(0.75)\n",
    "iqr = q3 - q1\n",
    "lower_bound = q1 - 1.5 * iqr\n",
    "upper_bound = q3 + 1.5 * iqr\n",
    "outliers = dataset[(dataset['LUNCH'] < lower_bound) | (dataset['LUNCH'] > upper_bound)]\n",
    "\n",
    "\n"
   ]
  },
  {
   "cell_type": "code",
   "execution_count": 53,
   "metadata": {},
   "outputs": [],
   "source": [
    "from sklearn.preprocessing import LabelEncoder\n",
    "for column in dataset.columns:\n",
    "    dataset[column] = label_encoder.fit_transform(dataset[column])\n",
    "breakfast_correlations = dataset.corrwith(dataset['B.FAST'])"
   ]
  },
  {
   "cell_type": "code",
   "execution_count": null,
   "metadata": {},
   "outputs": [],
   "source": [
    "import seaborn as sns \n",
    "correlation_matrix = dataset.corr()\n",
    "\n",
    "# Create a heatmap\n",
    "plt.figure(figsize=(30, 20))\n",
    "sns.heatmap(correlation_matrix, annot=True, cmap='coolwarm', linewidths=0.5)\n",
    "plt.title(\"Correlation Matrix\")\n",
    "plt.show()"
   ]
  }
 ],
 "metadata": {
  "kernelspec": {
   "display_name": "Python 3",
   "language": "python",
   "name": "python3"
  },
  "language_info": {
   "codemirror_mode": {
    "name": "ipython",
    "version": 3
   },
   "file_extension": ".py",
   "mimetype": "text/x-python",
   "name": "python",
   "nbconvert_exporter": "python",
   "pygments_lexer": "ipython3",
   "version": "3.9.7"
  },
  "orig_nbformat": 4
 },
 "nbformat": 4,
 "nbformat_minor": 2
}
