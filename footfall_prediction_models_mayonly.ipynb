{
 "cells": [
  {
   "cell_type": "markdown",
   "id": "247c3234",
   "metadata": {},
   "source": [
    "## Footfall Prediction Model"
   ]
  },
  {
   "cell_type": "markdown",
   "id": "5fd49054",
   "metadata": {},
   "source": [
    "This notebook demonstrates the process of predicting dinner footfall using features like breakfast, lunch, snacks, day, and month."
   ]
  },
  {
   "cell_type": "markdown",
   "id": "ca841094",
   "metadata": {},
   "source": [
    "### Data Preprocessing"
   ]
  },
  {
   "cell_type": "markdown",
   "id": "590d62e4",
   "metadata": {},
   "source": [
    "We load and inspect the data, handle missing values, encode categorical variables, and split the data into training and testing sets."
   ]
  },
  {
   "cell_type": "markdown",
   "id": "3fb86af6",
   "metadata": {},
   "source": [
    "### Model Training"
   ]
  },
  {
   "cell_type": "markdown",
   "id": "8486aceb",
   "metadata": {},
   "source": [
    "Several regression models are trained and cross-validation is used to assess their performance."
   ]
  },
  {
   "cell_type": "markdown",
   "id": "a31d3fc0",
   "metadata": {},
   "source": [
    "### Model Evaluation"
   ]
  },
  {
   "cell_type": "markdown",
   "id": "83b51a96",
   "metadata": {},
   "source": [
    "The best model is evaluated on the test set and the performance of all models is visualized."
   ]
  },
  {
   "cell_type": "code",
   "execution_count": 9,
   "id": "d34c3830",
   "metadata": {},
   "outputs": [
    {
     "data": {
      "text/html": [
       "<div>\n",
       "<style scoped>\n",
       "    .dataframe tbody tr th:only-of-type {\n",
       "        vertical-align: middle;\n",
       "    }\n",
       "\n",
       "    .dataframe tbody tr th {\n",
       "        vertical-align: top;\n",
       "    }\n",
       "\n",
       "    .dataframe thead th {\n",
       "        text-align: right;\n",
       "    }\n",
       "</style>\n",
       "<table border=\"1\" class=\"dataframe\">\n",
       "  <thead>\n",
       "    <tr style=\"text-align: right;\">\n",
       "      <th></th>\n",
       "      <th>date</th>\n",
       "      <th>breakfast</th>\n",
       "      <th>lunch</th>\n",
       "      <th>snacks</th>\n",
       "      <th>dinner</th>\n",
       "      <th>day</th>\n",
       "      <th>month</th>\n",
       "      <th>population total</th>\n",
       "      <th>breakfast_proportion</th>\n",
       "      <th>lunch_proportion</th>\n",
       "      <th>snacks_proportion</th>\n",
       "      <th>bogo</th>\n",
       "      <th>celebration</th>\n",
       "      <th>chicken</th>\n",
       "      <th>weekend</th>\n",
       "      <th>exam</th>\n",
       "      <th>guest</th>\n",
       "      <th>holiday</th>\n",
       "      <th>fasting</th>\n",
       "      <th>north</th>\n",
       "    </tr>\n",
       "  </thead>\n",
       "  <tbody>\n",
       "    <tr>\n",
       "      <th>0</th>\n",
       "      <td>01-05-2023 00:00</td>\n",
       "      <td>111</td>\n",
       "      <td>195</td>\n",
       "      <td>108</td>\n",
       "      <td>137</td>\n",
       "      <td>Monday</td>\n",
       "      <td>May</td>\n",
       "      <td>225</td>\n",
       "      <td>0.493333</td>\n",
       "      <td>0.703971</td>\n",
       "      <td>0.480000</td>\n",
       "      <td>0</td>\n",
       "      <td>0</td>\n",
       "      <td>1</td>\n",
       "      <td>0</td>\n",
       "      <td>0</td>\n",
       "      <td>0</td>\n",
       "      <td>0</td>\n",
       "      <td>0</td>\n",
       "      <td>0</td>\n",
       "    </tr>\n",
       "    <tr>\n",
       "      <th>1</th>\n",
       "      <td>02-05-2023 00:00</td>\n",
       "      <td>95</td>\n",
       "      <td>175</td>\n",
       "      <td>115</td>\n",
       "      <td>138</td>\n",
       "      <td>Tuesday</td>\n",
       "      <td>May</td>\n",
       "      <td>225</td>\n",
       "      <td>0.422222</td>\n",
       "      <td>0.631769</td>\n",
       "      <td>0.511111</td>\n",
       "      <td>0</td>\n",
       "      <td>0</td>\n",
       "      <td>0</td>\n",
       "      <td>0</td>\n",
       "      <td>0</td>\n",
       "      <td>0</td>\n",
       "      <td>0</td>\n",
       "      <td>0</td>\n",
       "      <td>0</td>\n",
       "    </tr>\n",
       "    <tr>\n",
       "      <th>2</th>\n",
       "      <td>03-05-2023 00:00</td>\n",
       "      <td>95</td>\n",
       "      <td>203</td>\n",
       "      <td>129</td>\n",
       "      <td>134</td>\n",
       "      <td>Wednesday</td>\n",
       "      <td>May</td>\n",
       "      <td>225</td>\n",
       "      <td>0.422222</td>\n",
       "      <td>0.732852</td>\n",
       "      <td>0.573333</td>\n",
       "      <td>1</td>\n",
       "      <td>0</td>\n",
       "      <td>1</td>\n",
       "      <td>0</td>\n",
       "      <td>0</td>\n",
       "      <td>0</td>\n",
       "      <td>0</td>\n",
       "      <td>0</td>\n",
       "      <td>0</td>\n",
       "    </tr>\n",
       "    <tr>\n",
       "      <th>3</th>\n",
       "      <td>04-05-2023 00:00</td>\n",
       "      <td>93</td>\n",
       "      <td>184</td>\n",
       "      <td>131</td>\n",
       "      <td>179</td>\n",
       "      <td>Thursday</td>\n",
       "      <td>May</td>\n",
       "      <td>225</td>\n",
       "      <td>0.413333</td>\n",
       "      <td>0.664260</td>\n",
       "      <td>0.582222</td>\n",
       "      <td>0</td>\n",
       "      <td>0</td>\n",
       "      <td>0</td>\n",
       "      <td>0</td>\n",
       "      <td>0</td>\n",
       "      <td>0</td>\n",
       "      <td>0</td>\n",
       "      <td>0</td>\n",
       "      <td>0</td>\n",
       "    </tr>\n",
       "    <tr>\n",
       "      <th>4</th>\n",
       "      <td>05-05-2023 00:00</td>\n",
       "      <td>112</td>\n",
       "      <td>121</td>\n",
       "      <td>95</td>\n",
       "      <td>117</td>\n",
       "      <td>Friday</td>\n",
       "      <td>May</td>\n",
       "      <td>225</td>\n",
       "      <td>0.497778</td>\n",
       "      <td>0.436823</td>\n",
       "      <td>0.422222</td>\n",
       "      <td>1</td>\n",
       "      <td>0</td>\n",
       "      <td>1</td>\n",
       "      <td>0</td>\n",
       "      <td>0</td>\n",
       "      <td>0</td>\n",
       "      <td>0</td>\n",
       "      <td>0</td>\n",
       "      <td>0</td>\n",
       "    </tr>\n",
       "  </tbody>\n",
       "</table>\n",
       "</div>"
      ],
      "text/plain": [
       "               date  breakfast  lunch  snacks  dinner        day month  \\\n",
       "0  01-05-2023 00:00        111    195     108     137     Monday   May   \n",
       "1  02-05-2023 00:00         95    175     115     138    Tuesday   May   \n",
       "2  03-05-2023 00:00         95    203     129     134  Wednesday   May   \n",
       "3  04-05-2023 00:00         93    184     131     179   Thursday   May   \n",
       "4  05-05-2023 00:00        112    121      95     117     Friday   May   \n",
       "\n",
       "   population total  breakfast_proportion  lunch_proportion  \\\n",
       "0               225              0.493333          0.703971   \n",
       "1               225              0.422222          0.631769   \n",
       "2               225              0.422222          0.732852   \n",
       "3               225              0.413333          0.664260   \n",
       "4               225              0.497778          0.436823   \n",
       "\n",
       "   snacks_proportion  bogo  celebration  chicken  weekend  exam  guest  \\\n",
       "0           0.480000     0            0        1        0     0      0   \n",
       "1           0.511111     0            0        0        0     0      0   \n",
       "2           0.573333     1            0        1        0     0      0   \n",
       "3           0.582222     0            0        0        0     0      0   \n",
       "4           0.422222     1            0        1        0     0      0   \n",
       "\n",
       "   holiday  fasting  north  \n",
       "0        0        0      0  \n",
       "1        0        0      0  \n",
       "2        0        0      0  \n",
       "3        0        0      0  \n",
       "4        0        0      0  "
      ]
     },
     "execution_count": 9,
     "metadata": {},
     "output_type": "execute_result"
    }
   ],
   "source": [
    "\n",
    "import pandas as pd\n",
    "\n",
    "# Load the dataset\n",
    "file_path = 'may.csv'\n",
    "data = pd.read_csv(file_path)\n",
    "\n",
    "# Display the first few rows of the dataframe\n",
    "\n",
    "data.drop(columns = ['dinner_footfall'],inplace = True)\n",
    "data.drop(columns = ['snacks_footfall'],inplace = True)\n",
    "data.drop(columns = ['lunch_footfall'],inplace = True)\n",
    "data.drop(columns=['dinner_proportion'],inplace=True)\n",
    "data.rename(columns = {'breakfast_footfall':'population total'}, inplace = True)\n",
    "data.head()\n",
    "    "
   ]
  },
  {
   "cell_type": "code",
   "execution_count": 10,
   "id": "f2db2ad6",
   "metadata": {},
   "outputs": [
    {
     "data": {
      "text/plain": [
       "(date                    0\n",
       " breakfast               0\n",
       " lunch                   0\n",
       " snacks                  0\n",
       " dinner                  0\n",
       " day                     0\n",
       " month                   0\n",
       " population total        0\n",
       " breakfast_proportion    0\n",
       " lunch_proportion        0\n",
       " snacks_proportion       0\n",
       " bogo                    0\n",
       " celebration             0\n",
       " chicken                 0\n",
       " weekend                 0\n",
       " exam                    0\n",
       " guest                   0\n",
       " holiday                 0\n",
       " fasting                 0\n",
       " north                   0\n",
       " dtype: int64,\n",
       "    breakfast  lunch  snacks  dinner  population total  breakfast_proportion  \\\n",
       " 0        111    195     108     137               225              0.493333   \n",
       " 1         95    175     115     138               225              0.422222   \n",
       " 2         95    203     129     134               225              0.422222   \n",
       " 3         93    184     131     179               225              0.413333   \n",
       " 4        112    121      95     117               225              0.497778   \n",
       " \n",
       "    lunch_proportion  snacks_proportion  bogo  celebration  ...  fasting  \\\n",
       " 0          0.703971           0.480000     0            0  ...        0   \n",
       " 1          0.631769           0.511111     0            0  ...        0   \n",
       " 2          0.732852           0.573333     1            0  ...        0   \n",
       " 3          0.664260           0.582222     0            0  ...        0   \n",
       " 4          0.436823           0.422222     1            0  ...        0   \n",
       " \n",
       "    north  day_Friday  day_Monday  day_Saturday  day_Sunday  day_Thursday  \\\n",
       " 0      0           0           1             0           0             0   \n",
       " 1      0           0           0             0           0             0   \n",
       " 2      0           0           0             0           0             0   \n",
       " 3      0           0           0             0           0             1   \n",
       " 4      0           1           0             0           0             0   \n",
       " \n",
       "    day_Tuesday  day_Wednesday  month_May  \n",
       " 0            0              0          1  \n",
       " 1            1              0          1  \n",
       " 2            0              1          1  \n",
       " 3            0              0          1  \n",
       " 4            0              0          1  \n",
       " \n",
       " [5 rows x 25 columns])"
      ]
     },
     "execution_count": 10,
     "metadata": {},
     "output_type": "execute_result"
    }
   ],
   "source": [
    "\n",
    "# Check for missing values and encode categorical variables\n",
    "missing_values = data.isnull().sum()\n",
    "data_encoded = pd.get_dummies(data, columns=['day', 'month'])\n",
    "data_encoded['year'] = pd.to_datetime(data_encoded['date']).dt.year\n",
    "if data_encoded['year'].nunique() == 1:\n",
    "    data_encoded.drop(columns=['date', 'year'], inplace=True)\n",
    "else:\n",
    "    data_encoded.drop(columns=['date'], inplace=True)\n",
    "\n",
    "\n",
    "missing_values, data_encoded.head()\n",
    "    "
   ]
  },
  {
   "cell_type": "code",
   "execution_count": 11,
   "id": "5014aea1",
   "metadata": {},
   "outputs": [],
   "source": [
    "\n",
    "from sklearn.model_selection import train_test_split\n",
    "\n",
    "# Define the features (X) and the target (y)\n",
    "X = data_encoded.drop('dinner', axis=1)\n",
    "y = data_encoded['dinner']\n",
    "\n",
    "# Split the data into training and testing sets (80% train, 20% test)\n",
    "X_train, X_test, y_train, y_test = train_test_split(X, y, test_size=0.2, random_state=42)\n",
    "    "
   ]
  },
  {
   "cell_type": "code",
   "execution_count": 12,
   "id": "9b07b46c",
   "metadata": {},
   "outputs": [
    {
     "data": {
      "text/plain": [
       "{'Random Forest': 24.462968534979733,\n",
       " 'Gradient Boosting': 27.517122900966967,\n",
       " 'Lasso Regression': 32.0071941895486,\n",
       " 'Decision Tree': 33.47715574513378,\n",
       " 'Ridge Regression': 34.846913452266435,\n",
       " 'Support Vector Regression': 38.49951898121911,\n",
       " 'Linear Regression': 50.21795865693573}"
      ]
     },
     "execution_count": 12,
     "metadata": {},
     "output_type": "execute_result"
    }
   ],
   "source": [
    "\n",
    "from sklearn.linear_model import LinearRegression, Ridge, Lasso\n",
    "from sklearn.tree import DecisionTreeRegressor\n",
    "from sklearn.ensemble import RandomForestRegressor, GradientBoostingRegressor\n",
    "from sklearn.svm import SVR\n",
    "from sklearn.model_selection import cross_val_score\n",
    "import numpy as np\n",
    "\n",
    "# Initialize models\n",
    "models = {\n",
    "    \"Linear Regression\": LinearRegression(),\n",
    "    \"Ridge Regression\": Ridge(),\n",
    "    \"Lasso Regression\": Lasso(),\n",
    "    \"Decision Tree\": DecisionTreeRegressor(),\n",
    "    \"Random Forest\": RandomForestRegressor(),\n",
    "    \"Gradient Boosting\": GradientBoostingRegressor(),\n",
    "    \"Support Vector Regression\": SVR()\n",
    "}\n",
    "\n",
    "# Dictionary to hold cross-validation scores\n",
    "cv_scores = {}\n",
    "\n",
    "# Perform cross-validation and store the results\n",
    "for name, model in models.items():\n",
    "    scores = cross_val_score(model, X_train, y_train, cv=5, scoring='neg_mean_squared_error')\n",
    "    cv_scores[name] = np.sqrt(-scores)  # Convert MSE to RMSE\n",
    "\n",
    "cv_scores_sorted = {name: np.mean(score) for name, score in sorted(cv_scores.items(), key=lambda item: np.mean(item[1]))}\n",
    "cv_scores_sorted\n",
    "    "
   ]
  },
  {
   "cell_type": "code",
   "execution_count": 13,
   "id": "cb1e9948",
   "metadata": {},
   "outputs": [
    {
     "data": {
      "image/png": "[encoded data removed]",
      "text/plain": [
       "<Figure size 1400x700 with 1 Axes>"
      ]
     },
     "metadata": {},
     "output_type": "display_data"
    }
   ],
   "source": [
    "\n",
    "import matplotlib.pyplot as plt\n",
    "\n",
    "# Let's create a bar graph for the cross-validation RMSE scores\n",
    "plt.figure(figsize=(14, 7))\n",
    "plt.barh(list(cv_scores_sorted.keys()), list(cv_scores_sorted.values()), color='skyblue')\n",
    "plt.xlabel('RMSE')\n",
    "plt.title('Cross-Validation RMSE Scores for Different Regression Models')\n",
    "plt.gca().invert_yaxis() \n",
    "plt.show()\n",
    "    "
   ]
  },
  {
   "cell_type": "code",
   "execution_count": 14,
   "id": "cf840d1a",
   "metadata": {},
   "outputs": [
    {
     "data": {
      "text/plain": [
       "20.825115749029248"
      ]
     },
     "execution_count": 14,
     "metadata": {},
     "output_type": "execute_result"
    }
   ],
   "source": [
    "\n",
    "# Train the best model (Lasso Regression) on the full training set\n",
    "best_model = Lasso()\n",
    "best_model.fit(X_train, y_train)\n",
    "\n",
    "# Evaluate the model on the test set\n",
    "from sklearn.metrics import mean_squared_error\n",
    "\n",
    "# Predictions\n",
    "y_pred = best_model.predict(X_test)\n",
    "\n",
    "# Calculate RMSE\n",
    "test_rmse = np.sqrt(mean_squared_error(y_test, y_pred))\n",
    "test_rmse\n",
    "    "
   ]
  },
  {
   "cell_type": "code",
   "execution_count": 16,
   "metadata": {},
   "outputs": [
    {
     "data": {
      "image/png": "[encoded data removed]",
      "text/plain": [
       "<Figure size 1000x600 with 1 Axes>"
      ]
     },
     "metadata": {},
     "output_type": "display_data"
    }
   ],
   "source": [
    "import matplotlib.pyplot as plt\n",
    "\n",
    "# Create a scatter plot\n",
    "plt.figure(figsize=(10, 6))\n",
    "plt.scatter(y_test, y_pred, c='b', alpha=0.5)\n",
    "plt.plot([min(y_test), max(y_test)], [min(y_test), max(y_test)], 'k--', lw=2)  # Diagonal line for perfect predictions\n",
    "plt.xlabel(\"Actual Values (y_test)\")\n",
    "plt.ylabel(\"Predicted Values (y_pred)\")\n",
    "plt.title(\"Actual vs. Predicted Values\")\n",
    "\n",
    "# Show the plot\n",
    "plt.show()\n"
   ]
  }
 ],
 "metadata": {
  "kernelspec": {
   "display_name": "Python 3",
   "language": "python",
   "name": "python3"
  },
  "language_info": {
   "codemirror_mode": {
    "name": "ipython",
    "version": 3
   },
   "file_extension": ".py",
   "mimetype": "text/x-python",
   "name": "python",
   "nbconvert_exporter": "python",
   "pygments_lexer": "ipython3",
   "version": "3.11.2"
  }
 },
 "nbformat": 4,
 "nbformat_minor": 5
}
